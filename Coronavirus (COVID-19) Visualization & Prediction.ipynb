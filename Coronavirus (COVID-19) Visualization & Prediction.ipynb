{
 "cells": [
  {
   "cell_type": "markdown",
   "metadata": {},
   "source": [
    "<font face = \"Verdana\" size =\"5\">This notebook tracks the spread of the novel coronavirus, also known as SARS-CoV-2. It is a contagious respiratory virus that first started in Wuhan in December 2019. On 2/11/2020, the disease is officially named COVID-19 by the World Health Organization. \n",
    "    <br><br>Data: <a href='https://github.com/CSSEGISandData/COVID-19'>https://github.com/CSSEGISandData/COVID-19</a>\n",
    "    <br>Learn more from the <a href='https://www.who.int/emergencies/diseases/novel-coronavirus-2019'>WHO</a>\n",
    "    <br>Learn more from the <a href='https://www.cdc.gov/coronavirus/2019-ncov'>CDC</a>\n",
    "    <br>Map Visualizations from  <a href='https://gisanddata.maps.arcgis.com/apps/opsdashboard/index.html#/bda7594740fd40299423467b48e9ecf6'>Johns Hopkins</a>\n",
    "    <br>Source code is on <a href='https://github.com/therealcyberlord'>my Github</a>\n",
    "   </font>\n",
    "   <br>\n",
    "   <font face = \"Verdana\" size =\"4\">\n",
    "   <br>Feel free to provide me with feedbacks. \n",
    "    <br> Last update: 4/9/2020 9:53 PM\n",
    "    <br> Make sure you run the notebook to see the graphs better. Some diagrams are hard to see in the default view. \n",
    " </font>\n",
    " <font face = \"Verdana\" size =\"1\">\n",
    "<center><img src='https://www.statnews.com/wp-content/uploads/2020/02/Coronavirus-CDC-645x645.jpg'>\n",
    " Source: https://www.statnews.com/wp-content/uploads/2020/02/Coronavirus-CDC-645x645.jpg </center> \n",
    "    \n",
    " <font face = \"Verdana\" size =\"4\"> Keep strong, world! Stay safe. </font>\n",
    "\n",
    "\n",
    "\n",
    "\n",
    "\n"
   ]
  },
  {
   "cell_type": "code",
   "execution_count": null,
   "metadata": {
    "_cell_guid": "b1076dfc-b9ad-4769-8c92-a6c4dae69d19",
    "_kg_hide-input": true,
    "_kg_hide-output": true,
    "_uuid": "8f2839f25d086af736a60e9eeb907d3b93b6e0e5"
   },
   "outputs": [],
   "source": [
    "import numpy as np \n",
    "import matplotlib.pyplot as plt \n",
    "import matplotlib.colors as mcolors\n",
    "import pandas as pd \n",
    "import random\n",
    "import math\n",
    "import time\n",
    "from sklearn.linear_model import LinearRegression, BayesianRidge\n",
    "from sklearn.model_selection import RandomizedSearchCV, train_test_split\n",
    "from sklearn.preprocessing import PolynomialFeatures\n",
    "from sklearn.tree import DecisionTreeRegressor\n",
    "from sklearn.svm import SVR\n",
    "from sklearn.metrics import mean_squared_error, mean_absolute_error\n",
    "import datetime\n",
    "import operator \n",
    "plt.style.use('fivethirtyeight')\n",
    "%matplotlib inline "
   ]
  },
  {
   "cell_type": "markdown",
   "metadata": {},
   "source": [
    "Import the data (make sure you update this on a daily basis)"
   ]
  },
  {
   "cell_type": "code",
   "execution_count": null,
   "metadata": {
    "_cell_guid": "",
    "_kg_hide-input": true,
    "_kg_hide-output": true,
    "_uuid": ""
   },
   "outputs": [],
   "source": [
    "confirmed_df = pd.read_csv('https://raw.githubusercontent.com/CSSEGISandData/COVID-19/master/csse_covid_19_data/csse_covid_19_time_series/time_series_covid19_confirmed_global.csv')\n",
    "deaths_df = pd.read_csv('https://raw.githubusercontent.com/CSSEGISandData/COVID-19/master/csse_covid_19_data/csse_covid_19_time_series/time_series_covid19_deaths_global.csv')\n",
    "recoveries_df = pd.read_csv('https://raw.githubusercontent.com/CSSEGISandData/COVID-19/master/csse_covid_19_data/csse_covid_19_time_series/time_series_covid19_recovered_global.csv')\n",
    "latest_data = pd.read_csv('https://raw.githubusercontent.com/CSSEGISandData/COVID-19/master/csse_covid_19_data/csse_covid_19_daily_reports/04-09-2020.csv')"
   ]
  },
  {
   "cell_type": "code",
   "execution_count": null,
   "metadata": {
    "_kg_hide-input": true,
    "_kg_hide-output": true
   },
   "outputs": [],
   "source": [
    "latest_data.head()"
   ]
  },
  {
   "cell_type": "code",
   "execution_count": null,
   "metadata": {
    "_kg_hide-input": true,
    "_kg_hide-output": true
   },
   "outputs": [],
   "source": [
    "confirmed_df.head()"
   ]
  },
  {
   "cell_type": "code",
   "execution_count": null,
   "metadata": {
    "_kg_hide-input": true,
    "_kg_hide-output": true
   },
   "outputs": [],
   "source": [
    "cols = confirmed_df.keys()"
   ]
  },
  {
   "cell_type": "markdown",
   "metadata": {},
   "source": [
    "\n",
    "Get all the dates for the outbreak"
   ]
  },
  {
   "cell_type": "code",
   "execution_count": null,
   "metadata": {
    "_kg_hide-input": true,
    "_kg_hide-output": true
   },
   "outputs": [],
   "source": [
    "confirmed = confirmed_df.loc[:, cols[4]:cols[-1]]\n",
    "deaths = deaths_df.loc[:, cols[4]:cols[-1]]\n",
    "recoveries = recoveries_df.loc[:, cols[4]:cols[-1]]"
   ]
  },
  {
   "cell_type": "code",
   "execution_count": null,
   "metadata": {
    "_kg_hide-input": true,
    "_kg_hide-output": true
   },
   "outputs": [],
   "source": [
    "dates = confirmed.keys()\n",
    "world_cases = []\n",
    "total_deaths = [] \n",
    "mortality_rate = []\n",
    "recovery_rate = [] \n",
    "total_recovered = [] \n",
    "total_active = [] \n",
    "\n",
    "china_cases = [] \n",
    "italy_cases = []\n",
    "us_cases = [] \n",
    "spain_cases = [] \n",
    "france_cases = [] \n",
    "\n",
    "china_deaths = [] \n",
    "italy_deaths = []\n",
    "us_deaths = [] \n",
    "spain_deaths = [] \n",
    "france_deaths = [] \n",
    "\n",
    "china_recoveries = [] \n",
    "italy_recoveries = []\n",
    "us_recoveries = [] \n",
    "spain_recoveries = [] \n",
    "france_recoveries = [] \n",
    "\n",
    "for i in dates:\n",
    "    confirmed_sum = confirmed[i].sum()\n",
    "    death_sum = deaths[i].sum()\n",
    "    recovered_sum = recoveries[i].sum()\n",
    "    \n",
    "    # confirmed, deaths, recovered, and active\n",
    "    world_cases.append(confirmed_sum)\n",
    "    total_deaths.append(death_sum)\n",
    "    total_recovered.append(recovered_sum)\n",
    "    total_active.append(confirmed_sum-death_sum-recovered_sum)\n",
    "    \n",
    "    # calculate rates\n",
    "    mortality_rate.append(death_sum/confirmed_sum)\n",
    "    recovery_rate.append(recovered_sum/confirmed_sum)\n",
    "\n",
    "    # case studies \n",
    "    china_cases.append(confirmed_df[confirmed_df['Country/Region']=='China'][i].sum())\n",
    "    italy_cases.append(confirmed_df[confirmed_df['Country/Region']=='Italy'][i].sum())\n",
    "    us_cases.append(confirmed_df[confirmed_df['Country/Region']=='US'][i].sum())\n",
    "    spain_cases.append(confirmed_df[confirmed_df['Country/Region']=='Spain'][i].sum())\n",
    "    france_cases.append(confirmed_df[confirmed_df['Country/Region']=='France'][i].sum())\n",
    "    \n",
    "    china_deaths.append(deaths_df[deaths_df['Country/Region']=='China'][i].sum())\n",
    "    italy_deaths.append(deaths_df[deaths_df['Country/Region']=='Italy'][i].sum())\n",
    "    us_deaths.append(deaths_df[deaths_df['Country/Region']=='US'][i].sum())\n",
    "    spain_deaths.append(deaths_df[deaths_df['Country/Region']=='Spain'][i].sum())\n",
    "    france_deaths.append(deaths_df[deaths_df['Country/Region']=='France'][i].sum())\n",
    "    \n",
    "    china_recoveries.append(recoveries_df[recoveries_df['Country/Region']=='China'][i].sum())\n",
    "    italy_recoveries.append(recoveries_df[recoveries_df['Country/Region']=='Italy'][i].sum())\n",
    "    us_recoveries.append(recoveries_df[recoveries_df['Country/Region']=='US'][i].sum())\n",
    "    spain_recoveries.append(recoveries_df[recoveries_df['Country/Region']=='Spain'][i].sum())\n",
    "    france_recoveries.append(recoveries_df[recoveries_df['Country/Region']=='France'][i].sum())"
   ]
  },
  {
   "cell_type": "markdown",
   "metadata": {},
   "source": [
    "Getting daily increases"
   ]
  },
  {
   "cell_type": "code",
   "execution_count": null,
   "metadata": {
    "_kg_hide-input": true,
    "_kg_hide-output": true
   },
   "outputs": [],
   "source": [
    "def daily_increase(data):\n",
    "    d = [] \n",
    "    for i in range(len(data)):\n",
    "        if i == 0:\n",
    "            d.append(data[0])\n",
    "        else:\n",
    "            d.append(data[i]-data[i-1])\n",
    "    return d \n",
    "\n",
    "# confirmed cases\n",
    "world_daily_increase = daily_increase(world_cases)\n",
    "china_daily_increase = daily_increase(china_cases)\n",
    "italy_daily_increase = daily_increase(italy_cases)\n",
    "us_daily_increase = daily_increase(us_cases)\n",
    "spain_daily_increase = daily_increase(spain_cases)\n",
    "france_daily_increase = daily_increase(france_cases)\n",
    "\n",
    "# deaths\n",
    "world_daily_death = daily_increase(total_deaths)\n",
    "china_daily_death = daily_increase(china_deaths)\n",
    "italy_daily_death = daily_increase(italy_deaths)\n",
    "us_daily_death = daily_increase(us_deaths)\n",
    "spain_daily_death = daily_increase(spain_deaths)\n",
    "france_daily_death = daily_increase(france_deaths)\n",
    "\n",
    "# recoveries\n",
    "world_daily_recovery = daily_increase(total_recovered)\n",
    "china_daily_recovery = daily_increase(china_recoveries)\n",
    "italy_daily_recovery = daily_increase(italy_recoveries)\n",
    "us_daily_recovery = daily_increase(us_recoveries)\n",
    "spain_daily_recovery = daily_increase(spain_recoveries)\n",
    "france_daily_recovery = daily_increase(france_recoveries)"
   ]
  },
  {
   "cell_type": "code",
   "execution_count": null,
   "metadata": {
    "_kg_hide-input": true,
    "_kg_hide-output": true
   },
   "outputs": [],
   "source": [
    "days_since_1_22 = np.array([i for i in range(len(dates))]).reshape(-1, 1)\n",
    "world_cases = np.array(world_cases).reshape(-1, 1)\n",
    "total_deaths = np.array(total_deaths).reshape(-1, 1)\n",
    "total_recovered = np.array(total_recovered).reshape(-1, 1)"
   ]
  },
  {
   "cell_type": "markdown",
   "metadata": {},
   "source": [
    "Future forcasting"
   ]
  },
  {
   "cell_type": "code",
   "execution_count": null,
   "metadata": {
    "_kg_hide-input": true,
    "_kg_hide-output": true
   },
   "outputs": [],
   "source": [
    "days_in_future = 10\n",
    "future_forcast = np.array([i for i in range(len(dates)+days_in_future)]).reshape(-1, 1)\n",
    "adjusted_dates = future_forcast[:-10]"
   ]
  },
  {
   "cell_type": "markdown",
   "metadata": {},
   "source": [
    "Convert integer into datetime for better visualization"
   ]
  },
  {
   "cell_type": "code",
   "execution_count": null,
   "metadata": {
    "_kg_hide-input": true,
    "_kg_hide-output": true
   },
   "outputs": [],
   "source": [
    "start = '1/22/2020'\n",
    "start_date = datetime.datetime.strptime(start, '%m/%d/%Y')\n",
    "future_forcast_dates = []\n",
    "for i in range(len(future_forcast)):\n",
    "    future_forcast_dates.append((start_date + datetime.timedelta(days=i)).strftime('%m/%d/%Y'))"
   ]
  },
  {
   "cell_type": "code",
   "execution_count": null,
   "metadata": {
    "_kg_hide-input": true,
    "_kg_hide-output": true
   },
   "outputs": [],
   "source": [
    "X_train_confirmed, X_test_confirmed, y_train_confirmed, y_test_confirmed = train_test_split(days_since_1_22, world_cases, test_size=0.05, shuffle=False) "
   ]
  },
  {
   "cell_type": "markdown",
   "metadata": {},
   "source": [
    "Model for predicting # of confirmed cases. I am using support vector machine, bayesian ridge , and linear regression in this example. "
   ]
  },
  {
   "cell_type": "code",
   "execution_count": null,
   "metadata": {
    "_kg_hide-input": true,
    "_kg_hide-output": true
   },
   "outputs": [],
   "source": [
    "# use this to find the optimal parameters for SVR\n",
    "# c = [0.01, 0.1, 1]\n",
    "# gamma = [0.01, 0.1, 1]\n",
    "# epsilon = [0.01, 0.1, 1]\n",
    "# shrinking = [True, False]\n",
    "# degree = [3, 4, 5, 6, 7]\n",
    "\n",
    "# svm_grid = {'C': c, 'gamma' : gamma, 'epsilon': epsilon, 'shrinking' : shrinking, 'degree': degree}\n",
    "\n",
    "# svm = SVR(kernel='poly')\n",
    "# svm_search = RandomizedSearchCV(svm, svm_grid, scoring='neg_mean_squared_error', cv=3, return_train_score=True, n_jobs=-1, n_iter=30, verbose=1)\n",
    "# svm_search.fit(X_train_confirmed, y_train_confirmed)"
   ]
  },
  {
   "cell_type": "code",
   "execution_count": null,
   "metadata": {
    "_kg_hide-input": true,
    "_kg_hide-output": true
   },
   "outputs": [],
   "source": [
    "# svm_search.best_params_"
   ]
  },
  {
   "cell_type": "code",
   "execution_count": null,
   "metadata": {
    "_kg_hide-input": true,
    "_kg_hide-output": true
   },
   "outputs": [],
   "source": [
    "# svm_confirmed = svm_search.best_estimator_\n",
    "svm_confirmed = SVR(shrinking=True, kernel='poly',gamma=0.01, epsilon=1,degree=5, C=0.1)\n",
    "svm_confirmed.fit(X_train_confirmed, y_train_confirmed)\n",
    "svm_pred = svm_confirmed.predict(future_forcast)"
   ]
  },
  {
   "cell_type": "code",
   "execution_count": null,
   "metadata": {
    "_kg_hide-input": true,
    "_kg_hide-output": true
   },
   "outputs": [],
   "source": [
    "# check against testing data\n",
    "svm_test_pred = svm_confirmed.predict(X_test_confirmed)\n",
    "plt.plot(y_test_confirmed)\n",
    "plt.plot(svm_test_pred)\n",
    "plt.legend(['Test Data', 'SVM Predictions'])\n",
    "print('MAE:', mean_absolute_error(svm_test_pred, y_test_confirmed))\n",
    "print('MSE:',mean_squared_error(svm_test_pred, y_test_confirmed))"
   ]
  },
  {
   "cell_type": "code",
   "execution_count": null,
   "metadata": {
    "_kg_hide-input": true,
    "_kg_hide-output": true
   },
   "outputs": [],
   "source": [
    "# transform our data for polynomial regression\n",
    "poly = PolynomialFeatures(degree=5)\n",
    "poly_X_train_confirmed = poly.fit_transform(X_train_confirmed)\n",
    "poly_X_test_confirmed = poly.fit_transform(X_test_confirmed)\n",
    "poly_future_forcast = poly.fit_transform(future_forcast)"
   ]
  },
  {
   "cell_type": "code",
   "execution_count": null,
   "metadata": {
    "_kg_hide-input": true,
    "_kg_hide-output": true
   },
   "outputs": [],
   "source": [
    "# polynomial regression\n",
    "linear_model = LinearRegression(normalize=True, fit_intercept=False)\n",
    "linear_model.fit(poly_X_train_confirmed, y_train_confirmed)\n",
    "test_linear_pred = linear_model.predict(poly_X_test_confirmed)\n",
    "linear_pred = linear_model.predict(poly_future_forcast)\n",
    "print('MAE:', mean_absolute_error(test_linear_pred, y_test_confirmed))\n",
    "print('MSE:',mean_squared_error(test_linear_pred, y_test_confirmed))"
   ]
  },
  {
   "cell_type": "code",
   "execution_count": null,
   "metadata": {
    "_kg_hide-input": true,
    "_kg_hide-output": true
   },
   "outputs": [],
   "source": [
    "print(linear_model.coef_)"
   ]
  },
  {
   "cell_type": "code",
   "execution_count": null,
   "metadata": {
    "_kg_hide-input": true,
    "_kg_hide-output": true
   },
   "outputs": [],
   "source": [
    "plt.plot(y_test_confirmed)\n",
    "plt.plot(test_linear_pred)\n",
    "plt.legend(['Test Data', 'Polynomial Regression Predictions'])"
   ]
  },
  {
   "cell_type": "code",
   "execution_count": null,
   "metadata": {
    "_kg_hide-input": true,
    "_kg_hide-output": true
   },
   "outputs": [],
   "source": [
    "# bayesian ridge polynomial regression\n",
    "tol = [1e-4, 1e-3, 1e-2]\n",
    "alpha_1 = [1e-7, 1e-6, 1e-5, 1e-4]\n",
    "alpha_2 = [1e-7, 1e-6, 1e-5, 1e-4]\n",
    "lambda_1 = [1e-7, 1e-6, 1e-5, 1e-4]\n",
    "lambda_2 = [1e-7, 1e-6, 1e-5, 1e-4]\n",
    "\n",
    "bayesian_grid = {'tol': tol, 'alpha_1': alpha_1, 'alpha_2' : alpha_2, 'lambda_1': lambda_1, 'lambda_2' : lambda_2}\n",
    "\n",
    "bayesian = BayesianRidge(fit_intercept=False, normalize=True)\n",
    "bayesian_search = RandomizedSearchCV(bayesian, bayesian_grid, scoring='neg_mean_squared_error', cv=3, return_train_score=True, n_jobs=-1, n_iter=40, verbose=1)\n",
    "bayesian_search.fit(poly_X_train_confirmed, y_train_confirmed)"
   ]
  },
  {
   "cell_type": "code",
   "execution_count": null,
   "metadata": {
    "_kg_hide-input": true,
    "_kg_hide-output": true
   },
   "outputs": [],
   "source": [
    "bayesian_search.best_params_"
   ]
  },
  {
   "cell_type": "code",
   "execution_count": null,
   "metadata": {
    "_kg_hide-input": true,
    "_kg_hide-output": true
   },
   "outputs": [],
   "source": [
    "bayesian_confirmed = bayesian_search.best_estimator_\n",
    "test_bayesian_pred = bayesian_confirmed.predict(poly_X_test_confirmed)\n",
    "bayesian_pred = bayesian_confirmed.predict(poly_future_forcast)\n",
    "print('MAE:', mean_absolute_error(test_bayesian_pred, y_test_confirmed))\n",
    "print('MSE:',mean_squared_error(test_bayesian_pred, y_test_confirmed))"
   ]
  },
  {
   "cell_type": "code",
   "execution_count": null,
   "metadata": {
    "_kg_hide-input": true,
    "_kg_hide-output": true
   },
   "outputs": [],
   "source": [
    "plt.plot(y_test_confirmed)\n",
    "plt.plot(test_bayesian_pred)\n",
    "plt.legend(['Test Data', 'Bayesian Ridge Polynomial Predictions'])"
   ]
  },
  {
   "cell_type": "markdown",
   "metadata": {},
   "source": [
    " Graphing the number of confirmed cases, active cases, deaths, recoveries, mortality rate, and recovery rate"
   ]
  },
  {
   "cell_type": "code",
   "execution_count": null,
   "metadata": {
    "_kg_hide-input": true,
    "_kg_hide-output": false
   },
   "outputs": [],
   "source": [
    "adjusted_dates = adjusted_dates.reshape(1, -1)[0]\n",
    "plt.figure(figsize=(16, 9))\n",
    "plt.plot(adjusted_dates, world_cases)\n",
    "plt.title('# of Coronavirus Cases Over Time', size=30)\n",
    "plt.xlabel('Days Since 1/22/2020', size=30)\n",
    "plt.ylabel('# of Cases', size=30)\n",
    "plt.xticks(size=20)\n",
    "plt.yticks(size=20)\n",
    "plt.show()\n",
    "\n",
    "plt.figure(figsize=(16, 9))\n",
    "plt.plot(adjusted_dates, total_deaths)\n",
    "plt.title('# of Coronavirus Deaths Over Time', size=30)\n",
    "plt.xlabel('Days Since 1/22/2020', size=30)\n",
    "plt.ylabel('# of Cases', size=30)\n",
    "plt.xticks(size=20)\n",
    "plt.yticks(size=20)\n",
    "plt.show()\n",
    "\n",
    "plt.figure(figsize=(16, 9))\n",
    "plt.plot(adjusted_dates, total_recovered)\n",
    "plt.title('# of Coronavirus Recoveries Over Time', size=30)\n",
    "plt.xlabel('Days Since 1/22/2020', size=30)\n",
    "plt.ylabel('# of Cases', size=30)\n",
    "plt.xticks(size=20)\n",
    "plt.yticks(size=20)\n",
    "plt.show()\n",
    "\n",
    "plt.figure(figsize=(16, 9))\n",
    "plt.plot(adjusted_dates, total_active)\n",
    "plt.title('# of Coronavirus Active Cases Over Time', size=30)\n",
    "plt.xlabel('Days Since 1/22/2020', size=30)\n",
    "plt.ylabel('# of Active Cases', size=30)\n",
    "plt.xticks(size=20)\n",
    "plt.yticks(size=20)\n",
    "plt.show()"
   ]
  },
  {
   "cell_type": "code",
   "execution_count": null,
   "metadata": {
    "_kg_hide-input": true
   },
   "outputs": [],
   "source": [
    "plt.figure(figsize=(16, 9))\n",
    "plt.bar(adjusted_dates, world_daily_increase)\n",
    "plt.title('World Daily Increases in Confirmed Cases', size=30)\n",
    "plt.xlabel('Days Since 1/22/2020', size=30)\n",
    "plt.ylabel('# of Cases', size=30)\n",
    "plt.xticks(size=20)\n",
    "plt.yticks(size=20)\n",
    "plt.show()\n",
    "\n",
    "plt.figure(figsize=(16, 9))\n",
    "plt.bar(adjusted_dates, world_daily_death)\n",
    "plt.title('World Daily Increases in Confirmed Deaths', size=30)\n",
    "plt.xlabel('Days Since 1/22/2020', size=30)\n",
    "plt.ylabel('# of Cases', size=30)\n",
    "plt.xticks(size=20)\n",
    "plt.yticks(size=20)\n",
    "plt.show()\n",
    "\n",
    "plt.figure(figsize=(16, 9))\n",
    "plt.bar(adjusted_dates, world_daily_recovery)\n",
    "plt.title('World Daily Increases in Confirmed Deaths', size=30)\n",
    "plt.xlabel('Days Since 1/22/2020', size=30)\n",
    "plt.ylabel('# of Cases', size=30)\n",
    "plt.xticks(size=20)\n",
    "plt.yticks(size=20)\n",
    "plt.show()"
   ]
  },
  {
   "cell_type": "code",
   "execution_count": null,
   "metadata": {
    "_kg_hide-input": true
   },
   "outputs": [],
   "source": [
    "plt.figure(figsize=(16, 9))\n",
    "plt.plot(adjusted_dates, np.log10(world_cases))\n",
    "plt.title('Log of # of Coronavirus Cases Over Time', size=30)\n",
    "plt.xlabel('Days Since 1/22/2020', size=30)\n",
    "plt.ylabel('# of Cases', size=30)\n",
    "plt.xticks(size=20)\n",
    "plt.yticks(size=20)\n",
    "plt.show()\n",
    "\n",
    "plt.figure(figsize=(16, 9))\n",
    "plt.plot(adjusted_dates, np.log10(total_deaths))\n",
    "plt.title('Log of # of Coronavirus Deaths Over Time', size=30)\n",
    "plt.xlabel('Days Since 1/22/2020', size=30)\n",
    "plt.ylabel('# of Cases', size=30)\n",
    "plt.xticks(size=20)\n",
    "plt.yticks(size=20)\n",
    "plt.show()\n",
    "\n",
    "plt.figure(figsize=(16, 9))\n",
    "plt.plot(adjusted_dates, np.log10(total_recovered))\n",
    "plt.title('Log of # of Coronavirus Recoveries Over Time', size=30)\n",
    "plt.xlabel('Days Since 1/22/2020', size=30)\n",
    "plt.ylabel('# of Cases', size=30)\n",
    "plt.xticks(size=20)\n",
    "plt.yticks(size=20)\n",
    "plt.show()"
   ]
  },
  {
   "cell_type": "code",
   "execution_count": null,
   "metadata": {
    "_kg_hide-input": true
   },
   "outputs": [],
   "source": [
    "plt.figure(figsize=(16, 9))\n",
    "plt.plot(adjusted_dates, china_cases)\n",
    "plt.title('China Confirmed Cases', size=30)\n",
    "plt.xlabel('Days Since 1/22/2020', size=30)\n",
    "plt.ylabel('# of Cases', size=30)\n",
    "plt.xticks(size=20)\n",
    "plt.yticks(size=20)\n",
    "plt.show()\n",
    "\n",
    "plt.figure(figsize=(16, 9))\n",
    "plt.bar(adjusted_dates, china_daily_increase)\n",
    "plt.title('China Daily Increases in Confirmed Cases', size=30)\n",
    "plt.xlabel('Days Since 1/22/2020', size=30)\n",
    "plt.ylabel('# of Cases', size=30)\n",
    "plt.xticks(size=20)\n",
    "plt.yticks(size=20)\n",
    "plt.show()\n",
    "\n",
    "plt.figure(figsize=(16, 9))\n",
    "plt.bar(adjusted_dates, china_daily_death)\n",
    "plt.title('China Daily Increases in Deaths', size=30)\n",
    "plt.xlabel('Days Since 1/22/2020', size=30)\n",
    "plt.ylabel('# of Cases', size=30)\n",
    "plt.xticks(size=20)\n",
    "plt.yticks(size=20)\n",
    "plt.show()\n",
    "\n",
    "plt.figure(figsize=(16, 9))\n",
    "plt.bar(adjusted_dates, china_daily_recovery)\n",
    "plt.title('China Daily Increases in Recoveries', size=30)\n",
    "plt.xlabel('Days Since 1/22/2020', size=30)\n",
    "plt.ylabel('# of Cases', size=30)\n",
    "plt.xticks(size=20)\n",
    "plt.yticks(size=20)\n",
    "plt.show()"
   ]
  },
  {
   "cell_type": "code",
   "execution_count": null,
   "metadata": {
    "_kg_hide-input": true
   },
   "outputs": [],
   "source": [
    "plt.figure(figsize=(16, 9))\n",
    "plt.plot(adjusted_dates, italy_cases)\n",
    "plt.title('Italy Confirmed Cases', size=30)\n",
    "plt.xlabel('Days Since 1/22/2020', size=30)\n",
    "plt.ylabel('# of Cases', size=30)\n",
    "plt.xticks(size=20)\n",
    "plt.yticks(size=20)\n",
    "plt.show()\n",
    "\n",
    "plt.figure(figsize=(16, 9))\n",
    "plt.bar(adjusted_dates, italy_daily_increase)\n",
    "plt.title('Italy Daily Increases in Confirmed Cases', size=30)\n",
    "plt.xlabel('Days Since 1/22/2020', size=30)\n",
    "plt.ylabel('# of Cases', size=30)\n",
    "plt.xticks(size=20)\n",
    "plt.yticks(size=20)\n",
    "plt.show()\n",
    "\n",
    "plt.figure(figsize=(16, 9))\n",
    "plt.bar(adjusted_dates, italy_daily_death)\n",
    "plt.title('Italy Daily Increases in Deaths', size=30)\n",
    "plt.xlabel('Days Since 1/22/2020', size=30)\n",
    "plt.ylabel('# of Cases', size=30)\n",
    "plt.xticks(size=20)\n",
    "plt.yticks(size=20)\n",
    "plt.show()\n",
    "\n",
    "plt.figure(figsize=(16, 9))\n",
    "plt.bar(adjusted_dates, italy_daily_recovery)\n",
    "plt.title('Italy Daily Increases in Recoveries', size=30)\n",
    "plt.xlabel('Days Since 1/22/2020', size=30)\n",
    "plt.ylabel('# of Cases', size=30)\n",
    "plt.xticks(size=20)\n",
    "plt.yticks(size=20)\n",
    "plt.show()"
   ]
  },
  {
   "cell_type": "code",
   "execution_count": null,
   "metadata": {
    "_kg_hide-input": true
   },
   "outputs": [],
   "source": [
    "plt.figure(figsize=(16, 9))\n",
    "plt.plot(adjusted_dates, us_cases)\n",
    "plt.title('US Confirmed Cases', size=30)\n",
    "plt.xlabel('Days Since 1/22/2020', size=30)\n",
    "plt.ylabel('# of Cases', size=30)\n",
    "plt.xticks(size=20)\n",
    "plt.yticks(size=20)\n",
    "plt.show()\n",
    "\n",
    "plt.figure(figsize=(16, 9))\n",
    "plt.bar(adjusted_dates, us_daily_increase)\n",
    "plt.title('US Daily Increases in Confirmed Cases', size=30)\n",
    "plt.xlabel('Days Since 1/22/2020', size=30)\n",
    "plt.ylabel('# of Cases', size=30)\n",
    "plt.xticks(size=20)\n",
    "plt.yticks(size=20)\n",
    "plt.show()\n",
    "\n",
    "plt.figure(figsize=(16, 9))\n",
    "plt.bar(adjusted_dates, us_daily_death)\n",
    "plt.title('US Daily Increases in Deaths', size=30)\n",
    "plt.xlabel('Days Since 1/22/2020', size=30)\n",
    "plt.ylabel('# of Cases', size=30)\n",
    "plt.xticks(size=20)\n",
    "plt.yticks(size=20)\n",
    "plt.show()\n",
    "\n",
    "plt.figure(figsize=(16, 9))\n",
    "plt.bar(adjusted_dates, us_daily_recovery)\n",
    "plt.title('US Daily Increases in Recoveries', size=30)\n",
    "plt.xlabel('Days Since 1/22/2020', size=30)\n",
    "plt.ylabel('# of Cases', size=30)\n",
    "plt.xticks(size=20)\n",
    "plt.yticks(size=20)\n",
    "plt.show()"
   ]
  },
  {
   "cell_type": "code",
   "execution_count": null,
   "metadata": {
    "_kg_hide-input": true
   },
   "outputs": [],
   "source": [
    "plt.figure(figsize=(16, 9))\n",
    "plt.plot(adjusted_dates, spain_cases)\n",
    "plt.title('Spain Confirmed Cases', size=30)\n",
    "plt.xlabel('Days Since 1/22/2020', size=30)\n",
    "plt.ylabel('# of Cases', size=30)\n",
    "plt.xticks(size=20)\n",
    "plt.yticks(size=20)\n",
    "plt.show()\n",
    "\n",
    "plt.figure(figsize=(16, 9))\n",
    "plt.bar(adjusted_dates, spain_daily_increase)\n",
    "plt.title('Spain Daily Increases in Confirmed Cases', size=30)\n",
    "plt.xlabel('Days Since 1/22/2020', size=30)\n",
    "plt.ylabel('# of Cases', size=30)\n",
    "plt.xticks(size=20)\n",
    "plt.yticks(size=20)\n",
    "plt.show()\n",
    "\n",
    "plt.figure(figsize=(16, 9))\n",
    "plt.bar(adjusted_dates, spain_daily_death)\n",
    "plt.title('Spain Daily Increases in Deaths', size=30)\n",
    "plt.xlabel('Days Since 1/22/2020', size=30)\n",
    "plt.ylabel('# of Cases', size=30)\n",
    "plt.xticks(size=20)\n",
    "plt.yticks(size=20)\n",
    "plt.show()\n",
    "\n",
    "plt.figure(figsize=(16, 9))\n",
    "plt.bar(adjusted_dates, spain_daily_recovery)\n",
    "plt.title('Spain Daily Increases in Recoveries', size=30)\n",
    "plt.xlabel('Days Since 1/22/2020', size=30)\n",
    "plt.ylabel('# of Cases', size=30)\n",
    "plt.xticks(size=20)\n",
    "plt.yticks(size=20)\n",
    "plt.show()"
   ]
  },
  {
   "cell_type": "code",
   "execution_count": null,
   "metadata": {
    "_kg_hide-input": true
   },
   "outputs": [],
   "source": [
    "plt.figure(figsize=(16, 9))\n",
    "plt.plot(adjusted_dates, france_cases)\n",
    "plt.title('France Confirmed Cases', size=30)\n",
    "plt.xlabel('Days Since 1/22/2020', size=30)\n",
    "plt.ylabel('# of Cases', size=30)\n",
    "plt.xticks(size=20)\n",
    "plt.yticks(size=20)\n",
    "plt.show()\n",
    "\n",
    "plt.figure(figsize=(16, 9))\n",
    "plt.bar(adjusted_dates, france_daily_increase)\n",
    "plt.title('France Daily Increases in Confirmed Cases', size=30)\n",
    "plt.xlabel('Days Since 1/22/2020', size=30)\n",
    "plt.ylabel('# of Cases', size=30)\n",
    "plt.xticks(size=20)\n",
    "plt.yticks(size=20)\n",
    "plt.show()\n",
    "\n",
    "plt.figure(figsize=(16, 9))\n",
    "plt.bar(adjusted_dates, france_daily_death)\n",
    "plt.title('France Daily Increases in Deaths', size=30)\n",
    "plt.xlabel('Days Since 1/22/2020', size=30)\n",
    "plt.ylabel('# of Cases', size=30)\n",
    "plt.xticks(size=20)\n",
    "plt.yticks(size=20)\n",
    "plt.show()\n",
    "\n",
    "plt.figure(figsize=(16, 9))\n",
    "plt.bar(adjusted_dates, france_daily_recovery)\n",
    "plt.title('France Daily Increases in Recoveries', size=30)\n",
    "plt.xlabel('Days Since 1/22/2020', size=30)\n",
    "plt.ylabel('# of Cases', size=30)\n",
    "plt.xticks(size=20)\n",
    "plt.yticks(size=20)\n",
    "plt.show()"
   ]
  },
  {
   "cell_type": "code",
   "execution_count": null,
   "metadata": {
    "_kg_hide-input": true
   },
   "outputs": [],
   "source": [
    "plt.figure(figsize=(16, 9))\n",
    "plt.plot(adjusted_dates, china_cases)\n",
    "plt.plot(adjusted_dates, italy_cases)\n",
    "plt.plot(adjusted_dates, us_cases)\n",
    "plt.plot(adjusted_dates, spain_cases)\n",
    "plt.plot(adjusted_dates, france_cases)\n",
    "plt.title('# of Coronavirus Cases', size=30)\n",
    "plt.xlabel('Days Since 1/22/2020', size=30)\n",
    "plt.ylabel('# of Cases', size=30)\n",
    "plt.legend(['China', 'Italy', 'US', 'Spain', 'France'], prop={'size': 20})\n",
    "plt.xticks(size=20)\n",
    "plt.yticks(size=20)\n",
    "plt.show()\n",
    "\n",
    "plt.figure(figsize=(16, 9))\n",
    "plt.plot(adjusted_dates, china_deaths)\n",
    "plt.plot(adjusted_dates, italy_deaths)\n",
    "plt.plot(adjusted_dates, us_deaths)\n",
    "plt.plot(adjusted_dates, spain_deaths)\n",
    "plt.plot(adjusted_dates, france_deaths)\n",
    "plt.title('# of Coronavirus Deaths', size=30)\n",
    "plt.xlabel('Days Since 1/22/2020', size=30)\n",
    "plt.ylabel('# of Cases', size=30)\n",
    "plt.legend(['China', 'Italy', 'US', 'Spain', 'France'], prop={'size': 20})\n",
    "plt.xticks(size=20)\n",
    "plt.yticks(size=20)\n",
    "plt.show()\n",
    "\n",
    "plt.figure(figsize=(16, 9))\n",
    "plt.plot(adjusted_dates, china_recoveries)\n",
    "plt.plot(adjusted_dates, italy_recoveries)\n",
    "plt.plot(adjusted_dates, us_recoveries)\n",
    "plt.plot(adjusted_dates, spain_recoveries)\n",
    "plt.plot(adjusted_dates, france_recoveries)\n",
    "plt.title('# of Coronavirus Recoveries', size=30)\n",
    "plt.xlabel('Days Since 1/22/2020', size=30)\n",
    "plt.ylabel('# of Cases', size=30)\n",
    "plt.legend(['China', 'Italy', 'US', 'Spain', 'France'], prop={'size': 20})\n",
    "plt.xticks(size=20)\n",
    "plt.yticks(size=20)\n",
    "plt.show()"
   ]
  },
  {
   "cell_type": "code",
   "execution_count": null,
   "metadata": {
    "_kg_hide-input": true,
    "_kg_hide-output": false
   },
   "outputs": [],
   "source": [
    "plt.figure(figsize=(16, 9))\n",
    "plt.plot(adjusted_dates, world_cases)\n",
    "plt.plot(future_forcast, svm_pred, linestyle='dashed', color='purple')\n",
    "plt.title('# of Coronavirus Cases Over Time', size=30)\n",
    "plt.xlabel('Days Since 1/22/2020', size=30)\n",
    "plt.ylabel('# of Cases', size=30)\n",
    "plt.legend(['Confirmed Cases', 'SVM predictions'], prop={'size': 20})\n",
    "plt.xticks(size=20)\n",
    "plt.yticks(size=20)\n",
    "plt.show()"
   ]
  },
  {
   "cell_type": "code",
   "execution_count": null,
   "metadata": {
    "_kg_hide-input": true
   },
   "outputs": [],
   "source": [
    "plt.figure(figsize=(16, 9))\n",
    "plt.plot(adjusted_dates, world_cases)\n",
    "plt.plot(future_forcast, linear_pred, linestyle='dashed', color='orange')\n",
    "plt.title('# of Coronavirus Cases Over Time', size=30)\n",
    "plt.xlabel('Days Since 1/22/2020', size=30)\n",
    "plt.ylabel('# of Cases', size=30)\n",
    "plt.legend(['Confirmed Cases', 'Polynomial Regression Predictions'], prop={'size': 20})\n",
    "plt.xticks(size=20)\n",
    "plt.yticks(size=20)\n",
    "plt.show()"
   ]
  },
  {
   "cell_type": "code",
   "execution_count": null,
   "metadata": {
    "_kg_hide-input": true,
    "_kg_hide-output": false
   },
   "outputs": [],
   "source": [
    "plt.figure(figsize=(16, 9))\n",
    "plt.plot(adjusted_dates, world_cases)\n",
    "plt.plot(future_forcast, bayesian_pred, linestyle='dashed', color='green')\n",
    "plt.title('# of Coronavirus Cases Over Time', size=30)\n",
    "plt.xlabel('Time', size=30)\n",
    "plt.ylabel('# of Cases', size=30)\n",
    "plt.legend(['Confirmed Cases', 'Polynomial Bayesian Ridge Regression Predictions'], prop={'size': 20})\n",
    "plt.xticks(size=20)\n",
    "plt.yticks(size=20)\n",
    "plt.show()"
   ]
  },
  {
   "cell_type": "code",
   "execution_count": null,
   "metadata": {
    "_kg_hide-input": true
   },
   "outputs": [],
   "source": [
    "# Future predictions using SVM \n",
    "svm_df = pd.DataFrame({'Date': future_forcast_dates[-10:], 'SVM Predicted # of Confirmed Cases Worldwide': np.round(svm_pred[-10:])})\n",
    "svm_df"
   ]
  },
  {
   "cell_type": "code",
   "execution_count": null,
   "metadata": {
    "_kg_hide-input": true
   },
   "outputs": [],
   "source": [
    "# Future predictions using polynomial regression\n",
    "linear_pred = linear_pred.reshape(1,-1)[0]\n",
    "svm_df = pd.DataFrame({'Date': future_forcast_dates[-10:], 'Polynomial Predicted # of Confirmed Cases Worldwide': np.round(linear_pred[-10:])})\n",
    "svm_df"
   ]
  },
  {
   "cell_type": "code",
   "execution_count": null,
   "metadata": {
    "_kg_hide-input": true,
    "_kg_hide-output": false
   },
   "outputs": [],
   "source": [
    "# Future predictions using Bayesian Ridge \n",
    "svm_df = pd.DataFrame({'Date': future_forcast_dates[-10:], 'Bayesian Ridge Predicted # of Confirmed Cases Worldwide': np.round(bayesian_pred[-10:])})\n",
    "svm_df"
   ]
  },
  {
   "cell_type": "code",
   "execution_count": null,
   "metadata": {
    "_kg_hide-input": true
   },
   "outputs": [],
   "source": [
    "mean_mortality_rate = np.mean(mortality_rate)\n",
    "plt.figure(figsize=(16, 9))\n",
    "plt.plot(adjusted_dates, mortality_rate, color='orange')\n",
    "plt.axhline(y = mean_mortality_rate,linestyle='--', color='black')\n",
    "plt.title('Mortality Rate of Coronavirus Over Time', size=30)\n",
    "plt.legend(['mortality rate', 'y='+str(mean_mortality_rate)], prop={'size': 20})\n",
    "plt.xlabel('Days Since 1/22/2020', size=30)\n",
    "plt.ylabel('Mortality Rate', size=30)\n",
    "plt.xticks(size=20)\n",
    "plt.yticks(size=20)\n",
    "plt.show()"
   ]
  },
  {
   "cell_type": "code",
   "execution_count": null,
   "metadata": {
    "_kg_hide-input": true
   },
   "outputs": [],
   "source": [
    "mean_recovery_rate = np.mean(recovery_rate)\n",
    "plt.figure(figsize=(16, 9))\n",
    "plt.plot(adjusted_dates, recovery_rate, color='blue')\n",
    "plt.axhline(y = mean_recovery_rate,linestyle='--', color='black')\n",
    "plt.title('Recovery Rate of Coronavirus Over Time', size=30)\n",
    "plt.legend(['recovery rate', 'y='+str(mean_recovery_rate)], prop={'size': 20})\n",
    "plt.xlabel('Days Since 1/22/2020', size=30)\n",
    "plt.ylabel('Recovery Rate', size=30)\n",
    "plt.xticks(size=20)\n",
    "plt.yticks(size=20)\n",
    "plt.show()"
   ]
  },
  {
   "cell_type": "markdown",
   "metadata": {},
   "source": [
    "Graphing deaths against recoveries"
   ]
  },
  {
   "cell_type": "code",
   "execution_count": null,
   "metadata": {
    "_kg_hide-input": true
   },
   "outputs": [],
   "source": [
    "plt.figure(figsize=(16, 9))\n",
    "plt.plot(adjusted_dates, total_deaths, color='r')\n",
    "plt.plot(adjusted_dates, total_recovered, color='green')\n",
    "plt.legend(['death', 'recoveries'], loc='best', fontsize=20)\n",
    "plt.title('# of Coronavirus Cases', size=30)\n",
    "plt.xlabel('Days Since 1/22/2020', size=30)\n",
    "plt.ylabel('# of Cases', size=30)\n",
    "plt.xticks(size=20)\n",
    "plt.yticks(size=20)\n",
    "plt.show()"
   ]
  },
  {
   "cell_type": "markdown",
   "metadata": {},
   "source": [
    "Plotting the number of deaths against the number of recoveries"
   ]
  },
  {
   "cell_type": "code",
   "execution_count": null,
   "metadata": {
    "_kg_hide-input": true
   },
   "outputs": [],
   "source": [
    "plt.figure(figsize=(16, 9))\n",
    "plt.plot(total_recovered, total_deaths)\n",
    "plt.title('# of Coronavirus Deaths vs. # of Coronavirus Recoveries', size=30)\n",
    "plt.xlabel('# of Coronavirus Recoveries', size=30)\n",
    "plt.ylabel('# of Coronavirus Deaths', size=30)\n",
    "plt.xticks(size=20)\n",
    "plt.yticks(size=20)\n",
    "plt.show()"
   ]
  },
  {
   "cell_type": "markdown",
   "metadata": {},
   "source": [
    "Getting information about countries/regions that have confirmed coronavirus cases"
   ]
  },
  {
   "cell_type": "code",
   "execution_count": null,
   "metadata": {
    "_kg_hide-input": true,
    "_kg_hide-output": true
   },
   "outputs": [],
   "source": [
    "unique_countries =  list(latest_data['Country_Region'].unique())"
   ]
  },
  {
   "cell_type": "code",
   "execution_count": null,
   "metadata": {
    "_kg_hide-input": true
   },
   "outputs": [],
   "source": [
    "country_confirmed_cases = []\n",
    "country_death_cases = [] \n",
    "country_active_cases = []\n",
    "country_recovery_cases = []\n",
    "country_mortality_rate = [] \n",
    "\n",
    "no_cases = []\n",
    "for i in unique_countries:\n",
    "    cases = latest_data[latest_data['Country_Region']==i]['Confirmed'].sum()\n",
    "    if cases > 0:\n",
    "        country_confirmed_cases.append(cases)\n",
    "    else:\n",
    "        no_cases.append(i)\n",
    "        \n",
    "for i in no_cases:\n",
    "    unique_countries.remove(i)\n",
    "    \n",
    "# sort countries by the number of confirmed cases\n",
    "unique_countries = [k for k, v in sorted(zip(unique_countries, country_confirmed_cases), key=operator.itemgetter(1), reverse=True)]\n",
    "for i in range(len(unique_countries)):\n",
    "    country_confirmed_cases[i] = latest_data[latest_data['Country_Region']==unique_countries[i]]['Confirmed'].sum()\n",
    "    country_death_cases.append(latest_data[latest_data['Country_Region']==unique_countries[i]]['Deaths'].sum())\n",
    "    country_recovery_cases.append(latest_data[latest_data['Country_Region']==unique_countries[i]]['Recovered'].sum())\n",
    "    country_active_cases.append(country_confirmed_cases[i] - country_death_cases[i] - country_recovery_cases[i])\n",
    "    country_mortality_rate.append(country_death_cases[i]/country_confirmed_cases[i])"
   ]
  },
  {
   "cell_type": "code",
   "execution_count": null,
   "metadata": {
    "_kg_hide-input": true,
    "_kg_hide-output": false
   },
   "outputs": [],
   "source": [
    "country_df = pd.DataFrame({'Country Name': unique_countries, 'Number of Confirmed Cases': country_confirmed_cases,\n",
    "                          'Number of Deaths': country_death_cases, 'Number of Recoveries' : country_recovery_cases, \n",
    "                          'Number of Active Cases' : country_active_cases,\n",
    "                          'Mortality Rate': country_mortality_rate})\n",
    "# number of cases per country/region\n",
    "\n",
    "country_df.style.background_gradient(cmap='Greens')"
   ]
  },
  {
   "cell_type": "code",
   "execution_count": null,
   "metadata": {
    "_kg_hide-input": true
   },
   "outputs": [],
   "source": [
    "unique_provinces =  list(latest_data['Province_State'].unique())"
   ]
  },
  {
   "cell_type": "markdown",
   "metadata": {},
   "source": [
    "Getting the latest information about provinces/states that have confirmed coronavirus cases"
   ]
  },
  {
   "cell_type": "code",
   "execution_count": null,
   "metadata": {
    "_kg_hide-input": true
   },
   "outputs": [],
   "source": [
    "province_confirmed_cases = []\n",
    "province_country = [] \n",
    "province_death_cases = [] \n",
    "province_recovery_cases = []\n",
    "province_mortality_rate = [] \n",
    "\n",
    "no_cases = [] \n",
    "for i in unique_provinces:\n",
    "    cases = latest_data[latest_data['Province_State']==i]['Confirmed'].sum()\n",
    "    if cases > 0:\n",
    "        province_confirmed_cases.append(cases)\n",
    "    else:\n",
    "        no_cases.append(i)\n",
    " \n",
    "# remove areas with no confirmed cases\n",
    "for i in no_cases:\n",
    "    unique_provinces.remove(i)\n",
    "    \n",
    "unique_provinces = [k for k, v in sorted(zip(unique_provinces, province_confirmed_cases), key=operator.itemgetter(1), reverse=True)]\n",
    "for i in range(len(unique_provinces)):\n",
    "    province_confirmed_cases[i] = latest_data[latest_data['Province_State']==unique_provinces[i]]['Confirmed'].sum()\n",
    "    province_country.append(latest_data[latest_data['Province_State']==unique_provinces[i]]['Country_Region'].unique()[0])\n",
    "    province_death_cases.append(latest_data[latest_data['Province_State']==unique_provinces[i]]['Deaths'].sum())\n",
    "    province_recovery_cases.append(latest_data[latest_data['Province_State']==unique_provinces[i]]['Recovered'].sum())\n",
    "    province_mortality_rate.append(province_death_cases[i]/province_confirmed_cases[i])"
   ]
  },
  {
   "cell_type": "code",
   "execution_count": null,
   "metadata": {
    "_kg_hide-input": true
   },
   "outputs": [],
   "source": [
    "# number of cases per province/state/city\n",
    "province_df = pd.DataFrame({'Province/State Name': unique_provinces, 'Country': province_country, 'Number of Confirmed Cases': province_confirmed_cases,\n",
    "                          'Number of Deaths': province_death_cases, 'Number of Recoveries' : province_recovery_cases,\n",
    "                          'Mortality Rate': province_mortality_rate})\n",
    "# number of cases per country/region\n",
    "\n",
    "province_df.style.background_gradient(cmap='Greens')"
   ]
  },
  {
   "cell_type": "code",
   "execution_count": null,
   "metadata": {
    "_kg_hide-input": true
   },
   "outputs": [],
   "source": [
    "nan_indices = [] \n",
    "\n",
    "# handle nan if there is any, it is usually a float: float('nan')\n",
    "\n",
    "for i in range(len(unique_provinces)):\n",
    "    if type(unique_provinces[i]) == float:\n",
    "        nan_indices.append(i)\n",
    "\n",
    "unique_provinces = list(unique_provinces)\n",
    "province_confirmed_cases = list(province_confirmed_cases)\n",
    "\n",
    "for i in nan_indices:\n",
    "    unique_provinces.pop(i)\n",
    "    province_confirmed_cases.pop(i)"
   ]
  },
  {
   "cell_type": "code",
   "execution_count": null,
   "metadata": {
    "_kg_hide-input": true
   },
   "outputs": [],
   "source": [
    "china_confirmed = latest_data[latest_data['Country_Region']=='China']['Confirmed'].sum()\n",
    "outside_mainland_china_confirmed = np.sum(country_confirmed_cases) - china_confirmed\n",
    "plt.figure(figsize=(16, 9))\n",
    "plt.barh('Mainland China', china_confirmed)\n",
    "plt.barh('Outside Mainland China', outside_mainland_china_confirmed)\n",
    "plt.title('# of Coronavirus Confirmed Cases', size=20)\n",
    "plt.xticks(size=20)\n",
    "plt.yticks(size=20)\n",
    "plt.show()"
   ]
  },
  {
   "cell_type": "code",
   "execution_count": null,
   "metadata": {
    "_kg_hide-input": true
   },
   "outputs": [],
   "source": [
    "print('Outside Mainland China {} cases:'.format(outside_mainland_china_confirmed))\n",
    "print('Mainland China: {} cases'.format(china_confirmed))\n",
    "print('Total: {} cases'.format(china_confirmed+outside_mainland_china_confirmed))"
   ]
  },
  {
   "cell_type": "code",
   "execution_count": null,
   "metadata": {
    "_kg_hide-input": true,
    "_kg_hide-output": true
   },
   "outputs": [],
   "source": [
    "# Only show 10 countries with the most confirmed cases, the rest are grouped into the other category\n",
    "visual_unique_countries = [] \n",
    "visual_confirmed_cases = []\n",
    "others = np.sum(country_confirmed_cases[10:])\n",
    "\n",
    "for i in range(len(country_confirmed_cases[:10])):\n",
    "    visual_unique_countries.append(unique_countries[i])\n",
    "    visual_confirmed_cases.append(country_confirmed_cases[i])\n",
    "    \n",
    "visual_unique_countries.append('Others')\n",
    "visual_confirmed_cases.append(others)"
   ]
  },
  {
   "cell_type": "markdown",
   "metadata": {},
   "source": [
    "***Visual Representations*** (bar charts and pie charts)"
   ]
  },
  {
   "cell_type": "code",
   "execution_count": null,
   "metadata": {
    "_kg_hide-input": true
   },
   "outputs": [],
   "source": [
    "plt.figure(figsize=(16, 9))\n",
    "plt.barh(visual_unique_countries, visual_confirmed_cases)\n",
    "plt.title('# of Covid-19 Confirmed Cases in Countries/Regions', size=20)\n",
    "plt.xticks(size=20)\n",
    "plt.yticks(size=20)\n",
    "plt.show()"
   ]
  },
  {
   "cell_type": "code",
   "execution_count": null,
   "metadata": {
    "_kg_hide-input": true,
    "_kg_hide-output": false
   },
   "outputs": [],
   "source": [
    "# lets look at it in a logarithmic scale \n",
    "log_country_confirmed_cases = [math.log10(i) for i in visual_confirmed_cases]\n",
    "plt.figure(figsize=(16, 9))\n",
    "plt.barh(visual_unique_countries, log_country_confirmed_cases)\n",
    "plt.title('Log of Common Log # of Coronavirus Confirmed Cases in Countries/Regions', size=20)\n",
    "plt.xticks(size=20)\n",
    "plt.yticks(size=20)\n",
    "plt.show()"
   ]
  },
  {
   "cell_type": "code",
   "execution_count": null,
   "metadata": {
    "_kg_hide-input": true,
    "_kg_hide-output": true
   },
   "outputs": [],
   "source": [
    "# Only show 10 provinces with the most confirmed cases, the rest are grouped into the other category\n",
    "visual_unique_provinces = [] \n",
    "visual_confirmed_cases2 = []\n",
    "others = np.sum(province_confirmed_cases[10:])\n",
    "for i in range(len(province_confirmed_cases[:10])):\n",
    "    visual_unique_provinces.append(unique_provinces[i])\n",
    "    visual_confirmed_cases2.append(province_confirmed_cases[i])\n",
    "\n",
    "visual_unique_provinces.append('Others')\n",
    "visual_confirmed_cases2.append(others)"
   ]
  },
  {
   "cell_type": "code",
   "execution_count": null,
   "metadata": {
    "_kg_hide-input": true
   },
   "outputs": [],
   "source": [
    "plt.figure(figsize=(16, 9))\n",
    "plt.barh(visual_unique_provinces, visual_confirmed_cases2)\n",
    "plt.title('# of Coronavirus Confirmed Cases in Provinces/States', size=20)\n",
    "plt.xticks(size=20)\n",
    "plt.yticks(size=20)\n",
    "plt.show()"
   ]
  },
  {
   "cell_type": "code",
   "execution_count": null,
   "metadata": {
    "_kg_hide-input": true,
    "_kg_hide-output": false
   },
   "outputs": [],
   "source": [
    "log_province_confirmed_cases = [math.log10(i) for i in visual_confirmed_cases2]\n",
    "plt.figure(figsize=(16, 9))\n",
    "plt.barh(visual_unique_provinces, log_province_confirmed_cases)\n",
    "plt.title('Log of # of Coronavirus Confirmed Cases in Provinces/States', size=20)\n",
    "plt.xticks(size=20)\n",
    "plt.yticks(size=20)\n",
    "plt.show()"
   ]
  },
  {
   "cell_type": "code",
   "execution_count": null,
   "metadata": {
    "_kg_hide-input": true
   },
   "outputs": [],
   "source": [
    "c = random.choices(list(mcolors.CSS4_COLORS.values()),k = len(unique_countries))\n",
    "plt.figure(figsize=(20,15))\n",
    "plt.title('Covid-19 Confirmed Cases per Country', size=20)\n",
    "plt.pie(visual_confirmed_cases, colors=c)\n",
    "plt.legend(visual_unique_countries, loc='best', fontsize=15)\n",
    "plt.show()"
   ]
  },
  {
   "cell_type": "code",
   "execution_count": null,
   "metadata": {
    "_kg_hide-input": true
   },
   "outputs": [],
   "source": [
    "c = random.sample(list(mcolors.CSS4_COLORS.values()),k = len(visual_confirmed_cases2))\n",
    "plt.figure(figsize=(20,15))\n",
    "plt.title('Covid-19 Confirmed Cases per State/Province/Region', size=20)\n",
    "plt.pie(visual_confirmed_cases2, colors=c)\n",
    "plt.legend(visual_unique_provinces, loc='best', fontsize=15)\n",
    "plt.show()"
   ]
  },
  {
   "cell_type": "code",
   "execution_count": null,
   "metadata": {
    "_kg_hide-input": true
   },
   "outputs": [],
   "source": [
    "# looking at US States\n",
    "us_regions = list(latest_data[latest_data['Country_Region']=='US']['Province_State'].unique())\n",
    "us_confirmed_cases = []\n",
    "no_cases = [] \n",
    "for i in us_regions:\n",
    "    cases = latest_data[latest_data['Province_State']==i]['Confirmed'].sum()\n",
    "    if cases > 0:\n",
    "        us_confirmed_cases.append(cases)\n",
    "    else:\n",
    "        no_cases.append(i)\n",
    " \n",
    "# remove areas with no confirmed cases\n",
    "for i in no_cases:\n",
    "    us_regions.remove(i)\n",
    "    \n",
    "# only show the top 10 states\n",
    "us_regions = [k for k, v in sorted(zip(us_regions, us_confirmed_cases), key=operator.itemgetter(1), reverse=True)]\n",
    "\n",
    "for i in range(len(us_regions)):\n",
    "    us_confirmed_cases[i] = latest_data[latest_data['Province_State']==us_regions[i]]['Confirmed'].sum()  \n",
    "\n",
    "us_regions_10 = us_regions[:10]\n",
    "us_regions_10.append('Others')\n",
    "us_confirmed_cases_10 = us_confirmed_cases[:10]\n",
    "us_confirmed_cases_10.append(np.sum(us_confirmed_cases[10:]))"
   ]
  },
  {
   "cell_type": "code",
   "execution_count": null,
   "metadata": {
    "_kg_hide-input": true
   },
   "outputs": [],
   "source": [
    "c = random.sample(list(mcolors.CSS4_COLORS.values()),k = len(us_confirmed_cases))\n",
    "plt.figure(figsize=(20,15))\n",
    "plt.title('Covid-19 Confirmed Cases in the United States',  size=20)\n",
    "plt.pie(us_confirmed_cases_10, colors=c)\n",
    "plt.legend(us_regions_10, loc='best', fontsize=15)\n",
    "plt.show()"
   ]
  },
  {
   "cell_type": "code",
   "execution_count": null,
   "metadata": {
    "_kg_hide-input": true
   },
   "outputs": [],
   "source": [
    "# looking at Chinese provinces\n",
    "china_regions = list(latest_data[latest_data['Country_Region']=='China']['Province_State'].unique())\n",
    "china_confirmed_cases = []\n",
    "no_cases = [] \n",
    "for i in china_regions:\n",
    "    cases = latest_data[latest_data['Province_State']==i]['Confirmed'].sum()\n",
    "    if cases > 0:\n",
    "        china_confirmed_cases.append(cases)\n",
    "    else:\n",
    "        no_cases.append(i)\n",
    " \n",
    "# remove areas with no confirmed cases\n",
    "for i in no_cases:\n",
    "    china_confirmed_cases.remove(i)\n",
    "    \n",
    "china_regions = [k for k, v in sorted(zip(china_regions, china_confirmed_cases), key=operator.itemgetter(1), reverse=True)]\n",
    "\n",
    "for i in range(len(china_regions)):\n",
    "    china_confirmed_cases[i] = latest_data[latest_data['Province_State']==china_regions[i]]['Confirmed'].sum()  \n",
    "\n",
    "china_regions_10 = china_regions[:10]\n",
    "china_regions_10.append('Others')\n",
    "china_confirmed_cases_10 = china_confirmed_cases[:10]\n",
    "china_confirmed_cases_10.append(np.sum(china_confirmed_cases[10:]))"
   ]
  },
  {
   "cell_type": "code",
   "execution_count": null,
   "metadata": {
    "_kg_hide-input": true
   },
   "outputs": [],
   "source": [
    "c = random.sample(list(mcolors.CSS4_COLORS.values()),k = len(china_confirmed_cases))\n",
    "plt.figure(figsize=(20,15))\n",
    "plt.title('Covid-19 Confirmed Cases in the Mainland China', size=20)\n",
    "plt.pie(china_confirmed_cases_10, colors=c)\n",
    "plt.legend(china_regions_10, loc='best', fontsize=15)\n",
    "plt.show()"
   ]
  }
 ],
 "metadata": {
  "kernelspec": {
   "display_name": "Python 3",
   "language": "python",
   "name": "python3"
  },
  "language_info": {
   "codemirror_mode": {
    "name": "ipython",
    "version": 3
   },
   "file_extension": ".py",
   "mimetype": "text/x-python",
   "name": "python",
   "nbconvert_exporter": "python",
   "pygments_lexer": "ipython3",
   "version": "3.7.4"
  }
 },
 "nbformat": 4,
 "nbformat_minor": 4
}
