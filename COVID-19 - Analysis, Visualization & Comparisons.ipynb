{
 "cells": [
  {
   "cell_type": "markdown",
   "metadata": {},
   "source": [
    "# Acknowledgements\n",
    "\n",
    "> https://github.com/CSSEGISandData/COVID-19\n",
    "\n",
    "# Collection methodology\n",
    "\n",
    "> https://github.com/imdevskp/covid_19_jhu_data_web_scrap_and_cleaning\n",
    "\n",
    "# Disclaimer\n",
    "\n",
    "> * The data is from scrapped from JHU github repository. Any variation in the data there will also reflect in this notebook"
   ]
  },
  {
   "cell_type": "code",
   "execution_count": null,
   "metadata": {
    "_kg_hide-input": true,
    "_kg_hide-output": true
   },
   "outputs": [],
   "source": [
    "from IPython.core.display import HTML"
   ]
  },
  {
   "cell_type": "markdown",
   "metadata": {},
   "source": [
    "# COVID-19"
   ]
  },
  {
   "cell_type": "code",
   "execution_count": null,
   "metadata": {
    "_kg_hide-input": true
   },
   "outputs": [],
   "source": [
    "HTML('''<div class=\"flourish-embed flourish-cards\" data-src=\"visualisation/1810417\" data-url=\"https://flo.uri.sh/visualisation/1810417/embed\"><script src=\"https://public.flourish.studio/resources/embed.js\"></script></div>''')"
   ]
  },
  {
   "cell_type": "markdown",
   "metadata": {},
   "source": [
    "# Ships"
   ]
  },
  {
   "cell_type": "code",
   "execution_count": null,
   "metadata": {
    "_kg_hide-input": true
   },
   "outputs": [],
   "source": [
    "HTML('''<div class=\"flourish-embed flourish-cards\" data-src=\"visualisation/1816605\" data-url=\"https://flo.uri.sh/visualisation/1816605/embed\"><script src=\"https://public.flourish.studio/resources/embed.js\"></script></div>''')"
   ]
  },
  {
   "cell_type": "markdown",
   "metadata": {},
   "source": [
    "# Libraries"
   ]
  },
  {
   "cell_type": "code",
   "execution_count": null,
   "metadata": {
    "_kg_hide-input": true,
    "_kg_hide-output": true
   },
   "outputs": [],
   "source": [
    "# install calmap\n",
    "# ==============\n",
    "\n",
    "! pip install calmap"
   ]
  },
  {
   "cell_type": "code",
   "execution_count": null,
   "metadata": {
    "_cell_guid": "b1076dfc-b9ad-4769-8c92-a6c4dae69d19",
    "_kg_hide-input": true,
    "_kg_hide-output": true,
    "_uuid": "8f2839f25d086af736a60e9eeb907d3b93b6e0e5"
   },
   "outputs": [],
   "source": [
    "# Import\n",
    "# ======\n",
    "\n",
    "# essential libraries\n",
    "import math\n",
    "import random\n",
    "from datetime import timedelta\n",
    "\n",
    "# storing and anaysis\n",
    "import numpy as np\n",
    "import pandas as pd\n",
    "\n",
    "# visualization\n",
    "import matplotlib.pyplot as plt\n",
    "import seaborn as sns\n",
    "import plotly.express as px\n",
    "import plotly.graph_objs as go\n",
    "import plotly.figure_factory as ff\n",
    "from plotly.subplots import make_subplots\n",
    "import calmap\n",
    "import folium\n",
    "\n",
    "# color pallette\n",
    "cnf, dth, rec, act = '#393e46', '#ff2e63', '#21bf73', '#fe9801' \n",
    "\n",
    "# converter\n",
    "from pandas.plotting import register_matplotlib_converters\n",
    "register_matplotlib_converters()   \n",
    "\n",
    "# hide warnings\n",
    "import warnings\n",
    "warnings.filterwarnings('ignore')"
   ]
  },
  {
   "cell_type": "code",
   "execution_count": null,
   "metadata": {
    "_kg_hide-input": true
   },
   "outputs": [],
   "source": [
    "# for offline ploting\n",
    "# ===================\n",
    "from plotly.offline import plot, iplot, init_notebook_mode\n",
    "init_notebook_mode(connected=True)"
   ]
  },
  {
   "cell_type": "markdown",
   "metadata": {},
   "source": [
    "# Dataset"
   ]
  },
  {
   "cell_type": "code",
   "execution_count": null,
   "metadata": {
    "_kg_hide-input": true,
    "_kg_hide-output": false
   },
   "outputs": [],
   "source": [
    "# list files\n",
    "# ==========\n",
    "\n",
    "# !ls ../input/corona-virus-report"
   ]
  },
  {
   "cell_type": "code",
   "execution_count": null,
   "metadata": {
    "_kg_hide-input": true
   },
   "outputs": [],
   "source": [
    "# importing datasets\n",
    "# ==================\n",
    "\n",
    "full_table = pd.read_csv('../input/corona-virus-report/covid_19_clean_complete.csv', \n",
    "                         parse_dates=['Date'])\n",
    "full_table.sample(6)"
   ]
  },
  {
   "cell_type": "code",
   "execution_count": null,
   "metadata": {
    "_kg_hide-input": true
   },
   "outputs": [],
   "source": [
    "# dataframe info\n",
    "# full_table.info()"
   ]
  },
  {
   "cell_type": "code",
   "execution_count": null,
   "metadata": {
    "_kg_hide-input": true
   },
   "outputs": [],
   "source": [
    "# checking for missing value\n",
    "# full_table.isna().sum()"
   ]
  },
  {
   "cell_type": "markdown",
   "metadata": {},
   "source": [
    "# Preprocessing"
   ]
  },
  {
   "cell_type": "code",
   "execution_count": null,
   "metadata": {
    "_kg_hide-input": true
   },
   "outputs": [],
   "source": [
    "# Ship\n",
    "# ====\n",
    "\n",
    "# ship rows\n",
    "ship_rows = full_table['Province/State'].str.contains('Grand Princess') | full_table['Province/State'].str.contains('Diamond Princess') | full_table['Country/Region'].str.contains('Diamond Princess') | full_table['Country/Region'].str.contains('MS Zaandam')\n",
    "\n",
    "# ship\n",
    "ship = full_table[ship_rows]\n",
    "\n",
    "# full table \n",
    "full_table = full_table[~(ship_rows)]\n",
    "\n",
    "# Latest cases from the ships\n",
    "ship_latest = ship[ship['Date']==max(ship['Date'])]\n",
    "\n",
    "# ship_latest.style.background_gradient(cmap='Pastel1_r')"
   ]
  },
  {
   "cell_type": "code",
   "execution_count": null,
   "metadata": {
    "_kg_hide-input": true,
    "_kg_hide-output": true
   },
   "outputs": [],
   "source": [
    "# Cleaning data\n",
    "# =============\n",
    "\n",
    "# Active Case = confirmed - deaths - recovered\n",
    "full_table['Active'] = full_table['Confirmed'] - full_table['Deaths'] - full_table['Recovered']\n",
    "\n",
    "# replacing Mainland china with just China\n",
    "full_table['Country/Region'] = full_table['Country/Region'].replace('Mainland China', 'China')\n",
    "\n",
    "# filling missing values \n",
    "full_table[['Province/State']] = full_table[['Province/State']].fillna('')\n",
    "full_table[['Confirmed', 'Deaths', 'Recovered', 'Active']] = full_table[['Confirmed', 'Deaths', 'Recovered', 'Active']].fillna(0)\n",
    "\n",
    "# fixing datatypes\n",
    "full_table['Recovered'] = full_table['Recovered'].astype(int)\n",
    "\n",
    "full_table.sample(6)"
   ]
  },
  {
   "cell_type": "code",
   "execution_count": null,
   "metadata": {
    "_kg_hide-input": true,
    "_kg_hide-output": true
   },
   "outputs": [],
   "source": [
    "# Grouped by day, country\n",
    "# =======================\n",
    "\n",
    "full_grouped = full_table.groupby(['Date', 'Country/Region'])['Confirmed', 'Deaths', 'Recovered', 'Active'].sum().reset_index()\n",
    "\n",
    "# new cases ======================================================\n",
    "temp = full_grouped.groupby(['Country/Region', 'Date', ])['Confirmed', 'Deaths', 'Recovered']\n",
    "temp = temp.sum().diff().reset_index()\n",
    "\n",
    "mask = temp['Country/Region'] != temp['Country/Region'].shift(1)\n",
    "\n",
    "temp.loc[mask, 'Confirmed'] = np.nan\n",
    "temp.loc[mask, 'Deaths'] = np.nan\n",
    "temp.loc[mask, 'Recovered'] = np.nan\n",
    "\n",
    "# renaming columns\n",
    "temp.columns = ['Country/Region', 'Date', 'New cases', 'New deaths', 'New recovered']\n",
    "# =================================================================\n",
    "\n",
    "# merging new values\n",
    "full_grouped = pd.merge(full_grouped, temp, on=['Country/Region', 'Date'])\n",
    "\n",
    "# filling na with 0\n",
    "full_grouped = full_grouped.fillna(0)\n",
    "\n",
    "# fixing data types\n",
    "cols = ['New cases', 'New deaths', 'New recovered']\n",
    "full_grouped[cols] = full_grouped[cols].astype('int')\n",
    "\n",
    "full_grouped['New cases'] = full_grouped['New cases'].apply(lambda x: 0 if x<0 else x)\n",
    "\n",
    "full_grouped.head()"
   ]
  },
  {
   "cell_type": "code",
   "execution_count": null,
   "metadata": {
    "_kg_hide-input": true,
    "_kg_hide-output": true
   },
   "outputs": [],
   "source": [
    "# Day wise\n",
    "# ========\n",
    "\n",
    "# table\n",
    "day_wise = full_grouped.groupby('Date')['Confirmed', 'Deaths', 'Recovered', 'Active', 'New cases'].sum().reset_index()\n",
    "\n",
    "# number cases per 100 cases\n",
    "day_wise['Deaths / 100 Cases'] = round((day_wise['Deaths']/day_wise['Confirmed'])*100, 2)\n",
    "day_wise['Recovered / 100 Cases'] = round((day_wise['Recovered']/day_wise['Confirmed'])*100, 2)\n",
    "day_wise['Deaths / 100 Recovered'] = round((day_wise['Deaths']/day_wise['Recovered'])*100, 2)\n",
    "\n",
    "# no. of countries\n",
    "day_wise['No. of countries'] = full_grouped[full_grouped['Confirmed']!=0].groupby('Date')['Country/Region'].unique().apply(len).values\n",
    "\n",
    "# fillna by 0\n",
    "cols = ['Deaths / 100 Cases', 'Recovered / 100 Cases', 'Deaths / 100 Recovered']\n",
    "day_wise[cols] = day_wise[cols].fillna(0)\n",
    "\n",
    "day_wise.head()"
   ]
  },
  {
   "cell_type": "code",
   "execution_count": null,
   "metadata": {
    "_kg_hide-input": true,
    "_kg_hide-output": true
   },
   "outputs": [],
   "source": [
    "# Country wise\n",
    "# ============\n",
    "\n",
    "# getting latest values\n",
    "country_wise = full_grouped[full_grouped['Date']==max(full_grouped['Date'])].reset_index(drop=True).drop('Date', axis=1)\n",
    "\n",
    "# group by country\n",
    "country_wise = country_wise.groupby('Country/Region')['Confirmed', 'Deaths', 'Recovered', 'Active', 'New cases'].sum().reset_index()\n",
    "\n",
    "# per 100 cases\n",
    "country_wise['Deaths / 100 Cases'] = round((country_wise['Deaths']/country_wise['Confirmed'])*100, 2)\n",
    "country_wise['Recovered / 100 Cases'] = round((country_wise['Recovered']/country_wise['Confirmed'])*100, 2)\n",
    "country_wise['Deaths / 100 Recovered'] = round((country_wise['Deaths']/country_wise['Recovered'])*100, 2)\n",
    "\n",
    "cols = ['Deaths / 100 Cases', 'Recovered / 100 Cases', 'Deaths / 100 Recovered']\n",
    "country_wise[cols] = country_wise[cols].fillna(0)\n",
    "\n",
    "country_wise.head()"
   ]
  },
  {
   "cell_type": "code",
   "execution_count": null,
   "metadata": {
    "_kg_hide-input": true,
    "_kg_hide-output": true
   },
   "outputs": [],
   "source": [
    "# load population dataset\n",
    "pop = pd.read_csv(\"../input/population-by-country-2020/population_by_country_2020.csv\")\n",
    "\n",
    "# select only population\n",
    "pop = pop.iloc[:, :2]\n",
    "\n",
    "# rename column names\n",
    "pop.columns = ['Country/Region', 'Population']\n",
    "\n",
    "# merged data\n",
    "country_wise = pd.merge(country_wise, pop, on='Country/Region', how='left')\n",
    "\n",
    "# update population\n",
    "cols = ['Burma', 'Congo (Brazzaville)', 'Congo (Kinshasa)', \"Cote d'Ivoire\", 'Czechia', \n",
    "        'Kosovo', 'Saint Kitts and Nevis', 'Saint Vincent and the Grenadines', \n",
    "        'Taiwan*', 'US', 'West Bank and Gaza']\n",
    "pops = [54409800, 89561403, 5518087, 26378274, 10708981, 1793000, \n",
    "        53109, 110854, 23806638, 330541757, 4543126]\n",
    "for c, p in zip(cols, pops):\n",
    "    country_wise.loc[country_wise['Country/Region']== c, 'Population'] = p\n",
    "    \n",
    "# missing values\n",
    "# country_wise.isna().sum()\n",
    "# country_wise[country_wise['Population'].isna()]['Country/Region'].tolist()\n",
    "\n",
    "# Cases per population\n",
    "country_wise['Cases / Million People'] = round((country_wise['Confirmed'] / country_wise['Population']) * 1000000)\n",
    "\n",
    "country_wise.head()"
   ]
  },
  {
   "cell_type": "code",
   "execution_count": null,
   "metadata": {
    "_kg_hide-input": true,
    "_kg_hide-output": true
   },
   "outputs": [],
   "source": [
    "today = full_grouped[full_grouped['Date']==max(full_grouped['Date'])].reset_index(drop=True).drop('Date', axis=1)[['Country/Region', 'Confirmed']]\n",
    "last_week = full_grouped[full_grouped['Date']==max(full_grouped['Date'])-timedelta(days=7)].reset_index(drop=True).drop('Date', axis=1)[['Country/Region', 'Confirmed']]\n",
    "\n",
    "temp = pd.merge(today, last_week, on='Country/Region', suffixes=(' today', ' last week'))\n",
    "\n",
    "# temp = temp[['Country/Region', 'Confirmed last week']]\n",
    "temp['1 week change'] = temp['Confirmed today'] - temp['Confirmed last week']\n",
    "\n",
    "temp = temp[['Country/Region', 'Confirmed last week', '1 week change']]\n",
    "\n",
    "country_wise = pd.merge(country_wise, temp, on='Country/Region')\n",
    "\n",
    "country_wise['1 week % increase'] = round(country_wise['1 week change']/country_wise['Confirmed last week']*100, 2)\n",
    "\n",
    "country_wise.head()"
   ]
  },
  {
   "cell_type": "code",
   "execution_count": null,
   "metadata": {
    "_kg_hide-input": true
   },
   "outputs": [],
   "source": [
    "temp = full_table.groupby('Date')['Confirmed', 'Deaths', 'Recovered', 'Active'].sum().reset_index()\n",
    "temp = temp[temp['Date']==max(temp['Date'])].reset_index(drop=True)\n",
    "\n",
    "tm = temp.melt(id_vars=\"Date\", value_vars=['Active', 'Deaths', 'Recovered'])\n",
    "fig = px.treemap(tm, path=[\"variable\"], values=\"value\", height=225, width=1200,\n",
    "                 color_discrete_sequence=[act, rec, dth])\n",
    "fig.data[0].textinfo = 'label+text+value'\n",
    "fig.show()"
   ]
  },
  {
   "cell_type": "code",
   "execution_count": null,
   "metadata": {
    "_kg_hide-input": true
   },
   "outputs": [],
   "source": [
    "temp = full_table.groupby('Date')['Recovered', 'Deaths', 'Active'].sum().reset_index()\n",
    "temp = temp.melt(id_vars=\"Date\", value_vars=['Recovered', 'Deaths', 'Active'],\n",
    "                 var_name='Case', value_name='Count')\n",
    "temp.head()\n",
    "\n",
    "fig = px.area(temp, x=\"Date\", y=\"Count\", color='Case', height=600,\n",
    "             title='Cases over time', color_discrete_sequence = [rec, dth, act])\n",
    "fig.update_layout(xaxis_rangeslider_visible=True)\n",
    "fig.show()"
   ]
  },
  {
   "cell_type": "markdown",
   "metadata": {},
   "source": [
    "# Maps"
   ]
  },
  {
   "cell_type": "markdown",
   "metadata": {},
   "source": [
    "### Across the world"
   ]
  },
  {
   "cell_type": "code",
   "execution_count": null,
   "metadata": {
    "_kg_hide-input": true
   },
   "outputs": [],
   "source": [
    "# World wide\n",
    "\n",
    "temp = full_table[full_table['Date'] == max(full_table['Date'])]\n",
    "\n",
    "m = folium.Map(location=[0, 0], tiles='cartodbpositron',\n",
    "               min_zoom=1, max_zoom=4, zoom_start=1)\n",
    "\n",
    "for i in range(0, len(temp)):\n",
    "    folium.Circle(\n",
    "        location=[temp.iloc[i]['Lat'], temp.iloc[i]['Long']],\n",
    "        color='crimson', fill='crimson',\n",
    "        tooltip =   '<li><bold>Country : '+str(temp.iloc[i]['Country/Region'])+\n",
    "                    '<li><bold>Province : '+str(temp.iloc[i]['Province/State'])+\n",
    "                    '<li><bold>Confirmed : '+str(temp.iloc[i]['Confirmed'])+\n",
    "                    '<li><bold>Deaths : '+str(temp.iloc[i]['Deaths']),\n",
    "        radius=int(temp.iloc[i]['Confirmed'])**1.1).add_to(m)\n",
    "m"
   ]
  },
  {
   "cell_type": "code",
   "execution_count": null,
   "metadata": {
    "_kg_hide-input": true
   },
   "outputs": [],
   "source": [
    "# Over the time\n",
    "\n",
    "fig = px.choropleth(full_grouped, locations=\"Country/Region\", locationmode='country names', color=np.log(full_grouped[\"Confirmed\"]), \n",
    "                    hover_name=\"Country/Region\", animation_frame=full_grouped[\"Date\"].dt.strftime('%Y-%m-%d'),\n",
    "                    title='Cases over time', color_continuous_scale=px.colors.sequential.Magenta)\n",
    "fig.update(layout_coloraxis_showscale=False)\n",
    "fig.show()"
   ]
  },
  {
   "cell_type": "code",
   "execution_count": null,
   "metadata": {
    "_kg_hide-input": true
   },
   "outputs": [],
   "source": [
    "# Confirmed\n",
    "fig_c = px.choropleth(country_wise, locations=\"Country/Region\", locationmode='country names', \n",
    "                      color=np.log(country_wise[\"Confirmed\"]), hover_name=\"Country/Region\", hover_data=['Confirmed'])\n",
    "\n",
    "# Deaths\n",
    "temp = country_wise[country_wise['Deaths']>0]\n",
    "fig_d = px.choropleth(temp, locations=\"Country/Region\", locationmode='country names',\n",
    "                      color=np.log(temp[\"Deaths\"]), hover_name=\"Country/Region\", hover_data=['Deaths'])\n",
    "\n",
    "# Plot\n",
    "fig = make_subplots(rows=1, cols=2, subplot_titles = ['Confirmed', 'Deaths'],\n",
    "                    specs=[[{\"type\": \"choropleth\"}, {\"type\": \"choropleth\"}]])\n",
    "\n",
    "fig.add_trace(fig_c['data'][0], row=1, col=1)\n",
    "fig.add_trace(fig_d['data'][0], row=1, col=2)\n",
    "\n",
    "fig.update(layout_coloraxis_showscale=False)\n",
    "\n",
    "fig.show()"
   ]
  },
  {
   "cell_type": "markdown",
   "metadata": {},
   "source": [
    "# Cases over the time"
   ]
  },
  {
   "cell_type": "code",
   "execution_count": null,
   "metadata": {
    "_kg_hide-input": true
   },
   "outputs": [],
   "source": [
    "fig_c = px.bar(day_wise, x=\"Date\", y=\"Confirmed\", color_discrete_sequence = [act])\n",
    "fig_d = px.bar(day_wise, x=\"Date\", y=\"Deaths\", color_discrete_sequence = [dth])\n",
    "\n",
    "fig = make_subplots(rows=1, cols=2, shared_xaxes=False, horizontal_spacing=0.1,\n",
    "                    subplot_titles=('Confirmed cases', 'Deaths reported'))\n",
    "\n",
    "fig.add_trace(fig_c['data'][0], row=1, col=1)\n",
    "fig.add_trace(fig_d['data'][0], row=1, col=2)\n",
    "\n",
    "fig.update_layout(height=480)\n",
    "fig.show()\n",
    "\n",
    "# ===============================\n",
    "\n",
    "fig_1 = px.line(day_wise, x=\"Date\", y=\"Deaths / 100 Cases\", color_discrete_sequence = [dth])\n",
    "fig_2 = px.line(day_wise, x=\"Date\", y=\"Recovered / 100 Cases\", color_discrete_sequence = [rec])\n",
    "fig_3 = px.line(day_wise, x=\"Date\", y=\"Deaths / 100 Recovered\", color_discrete_sequence = ['#333333'])\n",
    "\n",
    "fig = make_subplots(rows=1, cols=3, shared_xaxes=False, \n",
    "                    subplot_titles=('Deaths / 100 Cases', 'Recovered / 100 Cases', 'Deaths / 100 Recovered'))\n",
    "\n",
    "fig.add_trace(fig_1['data'][0], row=1, col=1)\n",
    "fig.add_trace(fig_2['data'][0], row=1, col=2)\n",
    "fig.add_trace(fig_3['data'][0], row=1, col=3)\n",
    "\n",
    "fig.update_layout(height=480)\n",
    "fig.show()\n",
    "\n",
    "# ===================================\n",
    "\n",
    "fig_c = px.bar(day_wise, x=\"Date\", y=\"New cases\", color_discrete_sequence = [act])\n",
    "fig_d = px.bar(day_wise, x=\"Date\", y=\"No. of countries\", color_discrete_sequence = [dth])\n",
    "\n",
    "fig = make_subplots(rows=1, cols=2, shared_xaxes=False, horizontal_spacing=0.1,\n",
    "                    subplot_titles=('No. of new cases everyday', 'No. of countries'))\n",
    "\n",
    "fig.add_trace(fig_c['data'][0], row=1, col=1)\n",
    "fig.add_trace(fig_d['data'][0], row=1, col=2)\n",
    "\n",
    "fig.update_layout(height=480)\n",
    "fig.show()"
   ]
  },
  {
   "cell_type": "markdown",
   "metadata": {},
   "source": [
    "# Top 20 Countries"
   ]
  },
  {
   "cell_type": "code",
   "execution_count": null,
   "metadata": {
    "_kg_hide-input": true
   },
   "outputs": [],
   "source": [
    "# confirmed - deaths\n",
    "fig_c = px.bar(country_wise.sort_values('Confirmed').tail(15), x=\"Confirmed\", y=\"Country/Region\", \n",
    "               text='Confirmed', orientation='h', color_discrete_sequence = [act])\n",
    "fig_d = px.bar(country_wise.sort_values('Deaths').tail(15), x=\"Deaths\", y=\"Country/Region\", \n",
    "               text='Deaths', orientation='h', color_discrete_sequence = [dth])\n",
    "\n",
    "# recovered - active\n",
    "fig_r = px.bar(country_wise.sort_values('Recovered').tail(15), x=\"Recovered\", y=\"Country/Region\", \n",
    "               text='Recovered', orientation='h', color_discrete_sequence = [rec])\n",
    "fig_a = px.bar(country_wise.sort_values('Active').tail(15), x=\"Active\", y=\"Country/Region\", \n",
    "               text='Active', orientation='h', color_discrete_sequence = ['#333333'])\n",
    "\n",
    "# death - recoverd / 100 cases\n",
    "fig_dc = px.bar(country_wise.sort_values('Deaths / 100 Cases').tail(15), x=\"Deaths / 100 Cases\", y=\"Country/Region\", \n",
    "               text='Deaths / 100 Cases', orientation='h', color_discrete_sequence = ['#f38181'])\n",
    "fig_rc = px.bar(country_wise.sort_values('Recovered / 100 Cases').tail(15), x=\"Recovered / 100 Cases\", y=\"Country/Region\", \n",
    "               text='Recovered / 100 Cases', orientation='h', color_discrete_sequence = ['#a3de83'])\n",
    "\n",
    "# new cases - cases per million people\n",
    "fig_nc = px.bar(country_wise.sort_values('New cases').tail(15), x=\"New cases\", y=\"Country/Region\", \n",
    "               text='New cases', orientation='h', color_discrete_sequence = ['#c61951'])\n",
    "temp = country_wise[country_wise['Population']>1000000]\n",
    "fig_p = px.bar(temp.sort_values('Cases / Million People').tail(15), x=\"Cases / Million People\", y=\"Country/Region\", \n",
    "               text='Cases / Million People', orientation='h', color_discrete_sequence = ['#741938'])\n",
    "\n",
    "# week change, percent increase\n",
    "fig_wc = px.bar(country_wise.sort_values('1 week change').tail(15), x=\"1 week change\", y=\"Country/Region\", \n",
    "               text='1 week change', orientation='h', color_discrete_sequence = ['#004a7c'])\n",
    "temp = country_wise[country_wise['Confirmed']>100]\n",
    "fig_pi = px.bar(temp.sort_values('1 week % increase').tail(15), x=\"1 week % increase\", y=\"Country/Region\", \n",
    "               text='1 week % increase', orientation='h', color_discrete_sequence = ['#005691'], \n",
    "                hover_data=['Confirmed last week', 'Confirmed'])\n",
    "\n",
    "\n",
    "# plot\n",
    "fig = make_subplots(rows=5, cols=2, shared_xaxes=False, horizontal_spacing=0.14, vertical_spacing=0.08,\n",
    "                    subplot_titles=('Confirmed cases', 'Deaths reported', 'Recovered', 'Active cases', \n",
    "                                    'Deaths / 100 cases', 'Recovered / 100 cases', 'New cases', \n",
    "                                    'Cases / Million People', '1 week increase', '1 week % increase'))\n",
    "\n",
    "fig.add_trace(fig_c['data'][0], row=1, col=1)\n",
    "fig.add_trace(fig_d['data'][0], row=1, col=2)\n",
    "fig.add_trace(fig_r['data'][0], row=2, col=1)\n",
    "fig.add_trace(fig_a['data'][0], row=2, col=2)\n",
    "\n",
    "fig.add_trace(fig_dc['data'][0], row=3, col=1)\n",
    "fig.add_trace(fig_rc['data'][0], row=3, col=2)\n",
    "fig.add_trace(fig_nc['data'][0], row=4, col=1)\n",
    "fig.add_trace(fig_p['data'][0], row=4, col=2)\n",
    "\n",
    "fig.add_trace(fig_wc['data'][0], row=5, col=1)\n",
    "fig.add_trace(fig_pi['data'][0], row=5, col=2)\n",
    "\n",
    "\n",
    "fig.update_layout(height=3000)"
   ]
  },
  {
   "cell_type": "code",
   "execution_count": null,
   "metadata": {
    "_kg_hide-input": true
   },
   "outputs": [],
   "source": [
    "fig = px.scatter(country_wise.sort_values('Deaths', ascending=False).iloc[:15, :], \n",
    "                 x='Confirmed', y='Deaths', color='Country/Region', size='Confirmed', height=700,\n",
    "                 text='Country/Region', log_x=True, log_y=True, title='Deaths vs Confirmed (Scale is in log10)')\n",
    "fig.update_traces(textposition='top center')\n",
    "fig.update_layout(showlegend=False)\n",
    "fig.update_layout(xaxis_rangeslider_visible=True)\n",
    "fig.show()"
   ]
  },
  {
   "cell_type": "markdown",
   "metadata": {},
   "source": [
    "# Date vs"
   ]
  },
  {
   "cell_type": "code",
   "execution_count": null,
   "metadata": {
    "_kg_hide-input": true
   },
   "outputs": [],
   "source": [
    "fig = px.bar(full_grouped, x=\"Date\", y=\"Confirmed\", color='Country/Region', height=600,\n",
    "             title='Confirmed', color_discrete_sequence = px.colors.cyclical.mygbm)\n",
    "fig.show()\n",
    "\n",
    "# =========================================\n",
    "\n",
    "fig = px.bar(full_grouped, x=\"Date\", y=\"Deaths\", color='Country/Region', height=600,\n",
    "             title='Deaths', color_discrete_sequence = px.colors.cyclical.mygbm)\n",
    "fig.show()\n",
    "\n",
    "# =========================================\n",
    "\n",
    "fig = px.bar(full_grouped, x=\"Date\", y=\"New cases\", color='Country/Region', height=600,\n",
    "             title='New cases', color_discrete_sequence = px.colors.cyclical.mygbm)\n",
    "fig.show()"
   ]
  },
  {
   "cell_type": "code",
   "execution_count": null,
   "metadata": {
    "_kg_hide-input": true
   },
   "outputs": [],
   "source": [
    "fig = px.line(full_grouped, x=\"Date\", y=\"Confirmed\", color='Country/Region', height=600,\n",
    "             title='Confirmed', color_discrete_sequence = px.colors.cyclical.mygbm)\n",
    "fig.show()\n",
    "\n",
    "# =========================================\n",
    "\n",
    "fig = px.line(full_grouped, x=\"Date\", y=\"Deaths\", color='Country/Region', height=600,\n",
    "             title='Deaths', color_discrete_sequence = px.colors.cyclical.mygbm)\n",
    "fig.show()\n",
    "\n",
    "# =========================================\n",
    "\n",
    "fig = px.line(full_grouped, x=\"Date\", y=\"New cases\", color='Country/Region', height=600,\n",
    "             title='New cases', color_discrete_sequence = px.colors.cyclical.mygbm)\n",
    "fig.show()"
   ]
  },
  {
   "cell_type": "code",
   "execution_count": null,
   "metadata": {
    "_kg_hide-input": true
   },
   "outputs": [],
   "source": [
    "gt_100 = full_grouped[full_grouped['Confirmed']>100]['Country/Region'].unique()\n",
    "temp = full_table[full_table['Country/Region'].isin(gt_100)]\n",
    "temp = temp.groupby(['Country/Region', 'Date'])['Confirmed'].sum().reset_index()\n",
    "temp = temp[temp['Confirmed']>100]\n",
    "# print(temp.head())\n",
    "\n",
    "min_date = temp.groupby('Country/Region')['Date'].min().reset_index()\n",
    "min_date.columns = ['Country/Region', 'Min Date']\n",
    "# print(min_date.head())\n",
    "\n",
    "from_100th_case = pd.merge(temp, min_date, on='Country/Region')\n",
    "from_100th_case['N days'] = (from_100th_case['Date'] - from_100th_case['Min Date']).dt.days\n",
    "# print(from_100th_case.head())\n",
    "\n",
    "fig = px.line(from_100th_case, x='N days', y='Confirmed', color='Country/Region', title='N days from 100 case', height=600)\n",
    "fig.show()\n",
    "\n",
    "# ===========================================================================\n",
    "\n",
    "gt_1000 = full_grouped[full_grouped['Confirmed']>1000]['Country/Region'].unique()\n",
    "temp = full_table[full_table['Country/Region'].isin(gt_1000)]\n",
    "temp = temp.groupby(['Country/Region', 'Date'])['Confirmed'].sum().reset_index()\n",
    "temp = temp[temp['Confirmed']>1000]\n",
    "# print(temp.head())\n",
    "\n",
    "min_date = temp.groupby('Country/Region')['Date'].min().reset_index()\n",
    "min_date.columns = ['Country/Region', 'Min Date']\n",
    "# print(min_date.head())\n",
    "\n",
    "from_1000th_case = pd.merge(temp, min_date, on='Country/Region')\n",
    "from_1000th_case['N days'] = (from_1000th_case['Date'] - from_1000th_case['Min Date']).dt.days\n",
    "# print(from_1000th_case.head())\n",
    "\n",
    "fig = px.line(from_1000th_case, x='N days', y='Confirmed', color='Country/Region', title='N days from 1000 case', height=600)\n",
    "fig.show()\n",
    "\n",
    "# ===========================================================================\n",
    "\n",
    "gt_10000 = full_grouped[full_grouped['Confirmed']>10000]['Country/Region'].unique()\n",
    "temp = full_table[full_table['Country/Region'].isin(gt_10000)]\n",
    "temp = temp.groupby(['Country/Region', 'Date'])['Confirmed'].sum().reset_index()\n",
    "temp = temp[temp['Confirmed']>10000]\n",
    "# print(temp.head())\n",
    "\n",
    "min_date = temp.groupby('Country/Region')['Date'].min().reset_index()\n",
    "min_date.columns = ['Country/Region', 'Min Date']\n",
    "# print(min_date.head())\n",
    "\n",
    "from_10000th_case = pd.merge(temp, min_date, on='Country/Region')\n",
    "from_10000th_case['N days'] = (from_10000th_case['Date'] - from_10000th_case['Min Date']).dt.days\n",
    "# print(from_10000th_case.head())full_grouped\n",
    "\n",
    "fig = px.line(from_10000th_case, x='N days', y='Confirmed', color='Country/Region', title='N days from 10000 case', height=600)\n",
    "fig.show()"
   ]
  },
  {
   "cell_type": "markdown",
   "metadata": {},
   "source": [
    "# Composition of Cases"
   ]
  },
  {
   "cell_type": "code",
   "execution_count": null,
   "metadata": {
    "_kg_hide-input": true
   },
   "outputs": [],
   "source": [
    "full_latest = full_table[full_table['Date'] == max(full_table['Date'])]\n",
    "                         \n",
    "fig = px.treemap(full_latest.sort_values(by='Confirmed', ascending=False).reset_index(drop=True), \n",
    "                 path=[\"Country/Region\", \"Province/State\"], values=\"Confirmed\", height=700,\n",
    "                 title='Number of Confirmed Cases',\n",
    "                 color_discrete_sequence = px.colors.qualitative.Dark2)\n",
    "fig.data[0].textinfo = 'label+text+value'\n",
    "fig.show()\n",
    "\n",
    "fig = px.treemap(full_latest.sort_values(by='Deaths', ascending=False).reset_index(drop=True), \n",
    "                 path=[\"Country/Region\", \"Province/State\"], values=\"Deaths\", height=700,\n",
    "                 title='Number of Deaths reported',\n",
    "                 color_discrete_sequence = px.colors.qualitative.Dark2)\n",
    "fig.data[0].textinfo = 'label+text+value'\n",
    "fig.show()"
   ]
  },
  {
   "cell_type": "markdown",
   "metadata": {},
   "source": [
    "# New cases"
   ]
  },
  {
   "cell_type": "code",
   "execution_count": null,
   "metadata": {
    "_kg_hide-input": true
   },
   "outputs": [],
   "source": [
    "temp = full_grouped[full_grouped['New cases']>0].sort_values('Country/Region', ascending=False)\n",
    "fig = px.scatter(temp, x='Date', y='Country/Region', size='New cases', color='New cases', height=3000, \n",
    "           color_continuous_scale=px.colors.sequential.Viridis)\n",
    "fig.update_layout(yaxis = dict(dtick = 1))\n",
    "fig.update(layout_coloraxis_showscale=False)\n",
    "fig.show()"
   ]
  },
  {
   "cell_type": "markdown",
   "metadata": {},
   "source": [
    "# Active cases"
   ]
  },
  {
   "cell_type": "code",
   "execution_count": null,
   "metadata": {},
   "outputs": [],
   "source": [
    "fig = go.Figure(data=go.Heatmap(\n",
    "        z=full_grouped['Active'],\n",
    "        x=full_grouped['Date'],\n",
    "        y=full_grouped['Country/Region'],\n",
    "        colorscale='Reds',\n",
    "        showlegend=False,\n",
    "        text=full_grouped['Active']))\n",
    "\n",
    "fig.update_layout(yaxis = dict(dtick = 1))\n",
    "fig.update_layout(height=3000)\n",
    "fig.show()"
   ]
  },
  {
   "cell_type": "markdown",
   "metadata": {},
   "source": [
    "# Epidemic Span"
   ]
  },
  {
   "cell_type": "markdown",
   "metadata": {},
   "source": [
    "Note : In the graph, last day is shown as one day after the last time a new confirmed cases reported in the Country / Region"
   ]
  },
  {
   "cell_type": "code",
   "execution_count": null,
   "metadata": {
    "_kg_hide-input": true
   },
   "outputs": [],
   "source": [
    "# first date\n",
    "# ==========\n",
    "first_date = full_table[full_table['Confirmed']>0]\n",
    "first_date = first_date.groupby('Country/Region')['Date'].agg(['min']).reset_index()\n",
    "# first_date.head()\n",
    "\n",
    "# last date\n",
    "# =========\n",
    "last_date = full_table.groupby(['Country/Region', 'Date', ])['Confirmed', 'Deaths', 'Recovered']\n",
    "last_date = last_date.sum().diff().reset_index()\n",
    "\n",
    "mask = last_date['Country/Region'] != last_date['Country/Region'].shift(1)\n",
    "last_date.loc[mask, 'Confirmed'] = np.nan\n",
    "last_date.loc[mask, 'Deaths'] = np.nan\n",
    "last_date.loc[mask, 'Recovered'] = np.nan\n",
    "\n",
    "last_date = last_date[last_date['Confirmed']>0]\n",
    "last_date = last_date.groupby('Country/Region')['Date'].agg(['max']).reset_index()\n",
    "# last_date.head()\n",
    "\n",
    "# first_last\n",
    "# ==========\n",
    "first_last = pd.concat([first_date, last_date[['max']]], axis=1)\n",
    "\n",
    "# added 1 more day, which will show the next day as the day on which last case appeared\n",
    "first_last['max'] = first_last['max'] + timedelta(days=1)\n",
    "\n",
    "# no. of days\n",
    "first_last['Days'] = first_last['max'] - first_last['min']\n",
    "\n",
    "# task column as country\n",
    "first_last['Task'] = first_last['Country/Region']\n",
    "\n",
    "# rename columns\n",
    "first_last.columns = ['Country/Region', 'Start', 'Finish', 'Days', 'Task']\n",
    "\n",
    "# sort by no. of days\n",
    "first_last = first_last.sort_values('Days')\n",
    "# first_last.head()\n",
    "\n",
    "# visualization\n",
    "# =============\n",
    "\n",
    "# produce random colors\n",
    "clr = [\"#\"+''.join([random.choice('0123456789ABC') for j in range(6)]) for i in range(len(first_last))]\n",
    "\n",
    "# plot\n",
    "fig = ff.create_gantt(first_last, index_col='Country/Region', colors=clr, show_colorbar=False, \n",
    "                      bar_width=0.2, showgrid_x=True, showgrid_y=True, height=2500)\n",
    "fig.show()"
   ]
  },
  {
   "cell_type": "markdown",
   "metadata": {},
   "source": [
    "https://app.flourish.studio/visualisation/1571387/edit\n",
    "\n"
   ]
  },
  {
   "cell_type": "code",
   "execution_count": null,
   "metadata": {},
   "outputs": [],
   "source": [
    "HTML('''<div class=\"flourish-embed flourish-bar-chart-race\" data-src=\"visualisation/1571387\"><script src=\"https://public.flourish.studio/resources/embed.js\"></script></div>''')"
   ]
  },
  {
   "cell_type": "markdown",
   "metadata": {},
   "source": [
    "# Country Wise"
   ]
  },
  {
   "cell_type": "code",
   "execution_count": null,
   "metadata": {
    "_kg_hide-input": true
   },
   "outputs": [],
   "source": [
    "temp = full_table.groupby(['Country/Region', 'Date', ])['Confirmed', 'Deaths']\n",
    "temp = temp.sum().diff().reset_index()\n",
    "\n",
    "mask = temp['Country/Region'] != temp['Country/Region'].shift(1)\n",
    "\n",
    "temp.loc[mask, 'Confirmed'] = np.nan\n",
    "temp.loc[mask, 'Deaths'] = np.nan\n",
    "\n",
    "temp = temp[temp['Country/Region'].isin(gt_10000)]\n",
    "\n",
    "# countries = ['China', 'Iran', 'South Korea', 'Italy', 'France', 'Germany', 'Italy', 'Spain', 'US']\n",
    "countries = temp['Country/Region'].unique()\n",
    "\n",
    "n_cols = 4\n",
    "n_rows = math.ceil(len(countries)/n_cols)\n",
    "\n",
    "fig = make_subplots(rows=n_rows, cols=n_cols, shared_xaxes=False, subplot_titles=countries)\n",
    "\n",
    "for ind, country in enumerate(countries):\n",
    "    row = int((ind/n_cols)+1)\n",
    "    col = int((ind%n_cols)+1)\n",
    "    fig.add_trace(go.Bar(x=temp['Date'], y=temp.loc[temp['Country/Region']==country, 'Confirmed'], name=country), row=row, col=col)\n",
    "    \n",
    "fig.update_layout(height=2000, title_text=\"No. of new cases in each Country\")    \n",
    "fig.show()"
   ]
  },
  {
   "cell_type": "markdown",
   "metadata": {},
   "source": [
    "# Calander map"
   ]
  },
  {
   "cell_type": "markdown",
   "metadata": {},
   "source": [
    "### Number of new cases every day"
   ]
  },
  {
   "cell_type": "code",
   "execution_count": null,
   "metadata": {
    "_kg_hide-input": true
   },
   "outputs": [],
   "source": [
    "temp = full_table.groupby('Date')['Confirmed'].sum()\n",
    "temp = temp.diff()\n",
    "\n",
    "plt.figure(figsize=(20, 5))\n",
    "ax = calmap.yearplot(temp, fillcolor='white', cmap='Reds', linewidth=0.5)"
   ]
  },
  {
   "cell_type": "markdown",
   "metadata": {},
   "source": [
    "### Number of new countries every day"
   ]
  },
  {
   "cell_type": "code",
   "execution_count": null,
   "metadata": {
    "_kg_hide-input": true
   },
   "outputs": [],
   "source": [
    "spread = full_table[full_table['Confirmed']!=0].groupby('Date')\n",
    "spread = spread['Country/Region'].unique().apply(len).diff()\n",
    "\n",
    "plt.figure(figsize=(20, 5))\n",
    "ax = calmap.yearplot(spread, fillcolor='white', cmap='Greens', linewidth=0.5)"
   ]
  },
  {
   "cell_type": "markdown",
   "metadata": {},
   "source": [
    "# Comparison with similar epidemics"
   ]
  },
  {
   "cell_type": "markdown",
   "metadata": {},
   "source": [
    "https://www.kaggle.com/imdevskp/covid19-vs-sars-vs-mers-vs-ebola-vs-h1n1\n",
    "\n"
   ]
  },
  {
   "cell_type": "code",
   "execution_count": null,
   "metadata": {
    "_kg_hide-input": true,
    "_kg_hide-output": true
   },
   "outputs": [],
   "source": [
    "epidemics = pd.DataFrame({\n",
    "    'epidemic' : ['COVID-19', 'SARS', 'EBOLA', 'MERS', 'H1N1'],\n",
    "    'start_year' : [2019, 2003, 2014, 2012, 2009],\n",
    "    'end_year' : [2020, 2004, 2016, 2017, 2010],\n",
    "    'confirmed' : [full_latest['Confirmed'].sum(), 8096, 28646, 2494, 6724149],\n",
    "    'deaths' : [full_latest['Deaths'].sum(), 774, 11323, 858, 19654]\n",
    "})\n",
    "\n",
    "epidemics['mortality'] = round((epidemics['deaths']/epidemics['confirmed'])*100, 2)\n",
    "\n",
    "epidemics.head()"
   ]
  },
  {
   "cell_type": "code",
   "execution_count": null,
   "metadata": {
    "_kg_hide-input": true
   },
   "outputs": [],
   "source": [
    "temp = epidemics.melt(id_vars='epidemic', value_vars=['confirmed', 'deaths', 'mortality'],\n",
    "                      var_name='Case', value_name='Value')\n",
    "\n",
    "fig = px.bar(temp, x=\"epidemic\", y=\"Value\", color='epidemic', text='Value', facet_col=\"Case\",\n",
    "             color_discrete_sequence = px.colors.qualitative.Bold)\n",
    "fig.update_traces(textposition='outside')\n",
    "fig.update_layout(uniformtext_minsize=8, uniformtext_mode='hide')\n",
    "fig.update_yaxes(showticklabels=False)\n",
    "fig.layout.yaxis2.update(matches=None)\n",
    "fig.layout.yaxis3.update(matches=None)\n",
    "fig.show()"
   ]
  },
  {
   "cell_type": "markdown",
   "metadata": {},
   "source": [
    "# Analysis on similar epidemics"
   ]
  },
  {
   "cell_type": "markdown",
   "metadata": {},
   "source": [
    "https://www.kaggle.com/imdevskp/mers-outbreak-analysis  \n",
    "https://www.kaggle.com/imdevskp/sars-2003-outbreak-analysis  \n",
    "https://www.kaggle.com/imdevskp/western-africa-ebola-outbreak-analysis\n"
   ]
  }
 ],
 "metadata": {
  "kernelspec": {
   "display_name": "Python 3",
   "language": "python",
   "name": "python3"
  },
  "language_info": {
   "codemirror_mode": {
    "name": "ipython",
    "version": 3
   },
   "file_extension": ".py",
   "mimetype": "text/x-python",
   "name": "python",
   "nbconvert_exporter": "python",
   "pygments_lexer": "ipython3",
   "version": "3.7.4"
  }
 },
 "nbformat": 4,
 "nbformat_minor": 4
}
